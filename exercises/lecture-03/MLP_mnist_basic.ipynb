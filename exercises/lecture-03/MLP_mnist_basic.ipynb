{
 "cells": [
  {
   "cell_type": "markdown",
   "metadata": {
    "collapsed": true,
    "id": "CxXz4eo1XUAP",
    "pycharm": {
     "name": "#%% md\n"
    }
   },
   "source": [
    "## Neural Networks\n",
    "## Solve MNIST classification with basic sklearn functions\n",
    "\n",
    "The goal of this exercise is to familiarise you with working with datasets and transferring the MLP classification from the PRACTICE to one of the standard benchmark datasets: MNIST or fashion MNIST.\n",
    "\n",
    "Note: The original [MNIST dataset](http://yann.lecun.com/exdb/mnist/) contains 28x28px images of handwritten digits. Members of the AI/ML/Data Science community love this dataset and use it as a benchmark to validate their algorithms. In fact, MNIST is often the first dataset researchers try. *\"If it doesn't work on **MNIST**, it won't work at all\"*, they said. *\"Well, if it does work on MNIST, it may still fail on others.\"*\n",
    "A good alternative is using the [Fashion-MNIST dataset](https://github.com/zalandoresearch/fashion-mnist) for the following reasons:\n",
    "- MNIST is too easy. Convolutional nets can achieve 99.7% on MNIST (we will introduce this in the next lecture, thus, skip this for now). Classic machine learning algorithms can also achieve 97% easily.\n",
    "- MNIST is overused.\n",
    "- MNIST can not represent modern CV tasks.\n",
    "Thus for your experiments, make your own choice after briefly looking into both.\n",
    "\n",
    "For the hand-in, go through the following tasks and answer the following questions.\n",
    "\n",
    "Tasks:\n",
    "1. Search online about characteristics and usage of the MNIST and/or FashionMNIST data set\n",
    "2. Build your own \"data loader\" to prepare training and test splits as well as input data and output labels.\n",
    "3. Reproduce the steps in the PRACTICE of using the MLP function from sklearn to classify the data.\n",
    "4. Understand and test what the respective loss function and optimisers are.\n",
    "## Optional\n",
    "5. Plot some training progress (e.g. plot the loss)\n",
    "6. Have a brief (!) experiment with different settings for the hyperparameters: batch_size, learning_rate, hidden_layer_sizes.\n",
    "\n",
    "Questions:\n",
    "1. What is the best accuracy that you found?\n",
    "2. What are good values of batch_size, learning_rate, hidden_layer_sizes?\n",
    "3. What optimiser options did you choose (and why)?\n",
    "4. What max_iter do you need to converge?\n",
    "5. What did you observe in the results for good and bad hyperparameters?"
   ]
  },
  {
   "cell_type": "code",
   "execution_count": 9,
   "metadata": {
    "id": "TZi_PVSRXUAS",
    "pycharm": {
     "name": "#%%\n"
    }
   },
   "outputs": [],
   "source": [
    "from IPython.display import display\n",
    "import numpy as np\n",
    "import pandas as pd\n",
    "import random\n",
    "import matplotlib.pyplot as plt\n",
    "from sklearn.linear_model import LogisticRegression\n",
    "from sklearn import datasets\n",
    "from sklearn import model_selection\n",
    "from sklearn import metrics\n",
    "from sklearn import neural_network\n",
    "from sklearn import preprocessing\n",
    "import seaborn as sns"
   ]
  },
  {
   "cell_type": "markdown",
   "metadata": {
    "id": "rWkki5MPXUAT",
    "pycharm": {
     "name": "#%% md\n"
    }
   },
   "source": [
    "#### Load MNIST data\n",
    "You may consider just using np.loadtxt on https://python-course.eu/data/mnist/mnist_train.csv and https://python-course.eu/data/mnist/mnist_test.csv"
   ]
  },
  {
   "cell_type": "code",
   "execution_count": 4,
   "metadata": {
    "id": "lCkyUHOuXUAT",
    "pycharm": {
     "name": "#%%\n"
    }
   },
   "outputs": [],
   "source": [
    "data = np.loadtxt(\"./data/mnist_train.csv\", delimiter=',')\n",
    "test_data = np.loadtxt(\"./data/mnist_test.csv\", delimiter=',')"
   ]
  },
  {
   "cell_type": "markdown",
   "metadata": {
    "id": "N7gxocW9XUAT",
    "pycharm": {
     "name": "#%% md\n"
    }
   },
   "source": [
    "##### Consider some visualisations to get a feeling for the data set!"
   ]
  },
  {
   "cell_type": "code",
   "execution_count": 5,
   "metadata": {
    "id": "r_UhP0-iXUAT",
    "pycharm": {
     "name": "#%%\n"
    }
   },
   "outputs": [
    {
     "name": "stdout",
     "output_type": "stream",
     "text": [
      "(60000, 785)\n"
     ]
    },
    {
     "data": {
      "text/plain": [
       "Text(0.5, 1.0, 'label: 5.0')"
      ]
     },
     "execution_count": 5,
     "metadata": {},
     "output_type": "execute_result"
    },
    {
     "data": {
      "image/png": "[encoded data removed]",
      "text/plain": [
       "<Figure size 640x480 with 1 Axes>"
      ]
     },
     "metadata": {},
     "output_type": "display_data"
    }
   ],
   "source": [
    "print(data.shape)\n",
    "X = data[:, 1:]  # all rows, all columns except firs\n",
    "y = data[:, 0]   # all rows, only first column\n",
    "plt.imshow(X[0].reshape(28, 28), cmap=\"gray\")\n",
    "plt.title(\"label: \" + str(y[0]))"
   ]
  },
  {
   "cell_type": "markdown",
   "metadata": {
    "id": "Lk177NFSXUAU",
    "pycharm": {
     "name": "#%% md\n"
    }
   },
   "source": [
    "#### Build the model"
   ]
  },
  {
   "cell_type": "code",
   "execution_count": 27,
   "metadata": {
    "id": "MlmoNR_hXUAU",
    "pycharm": {
     "name": "#%%\n"
    }
   },
   "outputs": [
    {
     "name": "stdout",
     "output_type": "stream",
     "text": [
      "[[0. 0. 0. ... 0. 0. 0.]\n",
      " [0. 0. 0. ... 0. 0. 0.]\n",
      " [0. 0. 0. ... 0. 0. 0.]\n",
      " ...\n",
      " [0. 0. 0. ... 0. 0. 0.]\n",
      " [0. 0. 0. ... 0. 0. 0.]\n",
      " [0. 0. 0. ... 0. 0. 0.]]\n",
      "Iteration 1, loss = 0.36332734\n",
      "Iteration 2, loss = 0.20159664\n",
      "Iteration 3, loss = 0.16177402\n",
      "Iteration 4, loss = 0.15164912\n",
      "Iteration 5, loss = 0.13409115\n",
      "Iteration 6, loss = 0.13445555\n",
      "Iteration 7, loss = 0.12152444\n",
      "Iteration 8, loss = 0.12061476\n",
      "Iteration 9, loss = 0.10869316\n",
      "Iteration 10, loss = 0.10698952\n",
      "Iteration 11, loss = 0.10633172\n",
      "Iteration 12, loss = 0.09738180\n",
      "Iteration 13, loss = 0.09486890\n",
      "Iteration 14, loss = 0.09988192\n",
      "Iteration 15, loss = 0.09576139\n",
      "Iteration 16, loss = 0.09529825\n",
      "Iteration 17, loss = 0.08937447\n",
      "Iteration 18, loss = 0.08952931\n",
      "Iteration 19, loss = 0.09190110\n",
      "Iteration 20, loss = 0.09245483\n",
      "Iteration 21, loss = 0.09789183\n",
      "Iteration 22, loss = 0.09230309\n",
      "Iteration 23, loss = 0.08158919\n",
      "Iteration 24, loss = 0.08064717\n",
      "Iteration 25, loss = 0.09651442\n",
      "Iteration 26, loss = 0.10520109\n",
      "Iteration 27, loss = 0.09153830\n",
      "Iteration 28, loss = 0.08631464\n",
      "Iteration 29, loss = 0.08600045\n",
      "Iteration 30, loss = 0.08401463\n",
      "Iteration 31, loss = 0.09222708\n",
      "Iteration 32, loss = 0.09192723\n",
      "Iteration 33, loss = 0.08339941\n",
      "Iteration 34, loss = 0.08723248\n",
      "Iteration 35, loss = 0.08082044\n",
      "Training loss did not improve more than tol=0.000100 for 10 consecutive epochs. Setting learning rate to 0.020000\n",
      "Iteration 36, loss = 0.03893714\n",
      "Iteration 37, loss = 0.02242887\n",
      "Iteration 38, loss = 0.01828046\n",
      "Iteration 39, loss = 0.01558182\n",
      "Iteration 40, loss = 0.01383560\n",
      "Iteration 41, loss = 0.01241818\n",
      "Iteration 42, loss = 0.01147588\n",
      "Iteration 43, loss = 0.01073519\n",
      "Iteration 44, loss = 0.01011135\n",
      "Iteration 45, loss = 0.00968466\n",
      "Iteration 46, loss = 0.00926274\n",
      "Iteration 47, loss = 0.00891956\n",
      "Iteration 48, loss = 0.00866867\n",
      "Iteration 49, loss = 0.00836703\n",
      "Iteration 50, loss = 0.00814657\n",
      "Iteration 51, loss = 0.00797426\n",
      "Iteration 52, loss = 0.00773008\n",
      "Iteration 53, loss = 0.00756681\n",
      "Iteration 54, loss = 0.00743213\n",
      "Iteration 55, loss = 0.00731212\n",
      "Iteration 56, loss = 0.00719317\n",
      "Iteration 57, loss = 0.00709829\n",
      "Iteration 58, loss = 0.00699605\n",
      "Iteration 59, loss = 0.00692711\n",
      "Iteration 60, loss = 0.00683983\n",
      "Iteration 61, loss = 0.00677643\n",
      "Iteration 62, loss = 0.00672420\n",
      "Iteration 63, loss = 0.00665457\n",
      "Iteration 64, loss = 0.00660276\n",
      "Iteration 65, loss = 0.00655671\n",
      "Iteration 66, loss = 0.00650717\n",
      "Iteration 67, loss = 0.00646285\n",
      "Iteration 68, loss = 0.00643066\n",
      "Iteration 69, loss = 0.00636037\n",
      "Training loss did not improve more than tol=0.000100 for 10 consecutive epochs. Setting learning rate to 0.004000\n",
      "Iteration 70, loss = 0.00625949\n",
      "Iteration 71, loss = 0.00623189\n",
      "Iteration 72, loss = 0.00621386\n",
      "Iteration 73, loss = 0.00619893\n",
      "Iteration 74, loss = 0.00618591\n",
      "Iteration 75, loss = 0.00617322\n",
      "Iteration 76, loss = 0.00616186\n",
      "Iteration 77, loss = 0.00615049\n",
      "Iteration 78, loss = 0.00613966\n",
      "Iteration 79, loss = 0.00612930\n",
      "Iteration 80, loss = 0.00611857\n",
      "Iteration 81, loss = 0.00610918\n",
      "Training loss did not improve more than tol=0.000100 for 10 consecutive epochs. Setting learning rate to 0.000800\n",
      "Iteration 82, loss = 0.00608472\n",
      "Iteration 83, loss = 0.00608233\n",
      "Iteration 84, loss = 0.00608009\n",
      "Iteration 85, loss = 0.00607811\n",
      "Iteration 86, loss = 0.00607597\n",
      "Iteration 87, loss = 0.00607406\n",
      "Iteration 88, loss = 0.00607217\n",
      "Iteration 89, loss = 0.00607017\n",
      "Iteration 90, loss = 0.00606831\n",
      "Iteration 91, loss = 0.00606646\n",
      "Iteration 92, loss = 0.00606454\n",
      "Training loss did not improve more than tol=0.000100 for 10 consecutive epochs. Setting learning rate to 0.000160\n",
      "Iteration 93, loss = 0.00605988\n",
      "Iteration 94, loss = 0.00605947\n",
      "Iteration 95, loss = 0.00605905\n",
      "Iteration 96, loss = 0.00605868\n",
      "Iteration 97, loss = 0.00605828\n",
      "Iteration 98, loss = 0.00605792\n",
      "Iteration 99, loss = 0.00605755\n",
      "Iteration 100, loss = 0.00605718\n",
      "Iteration 101, loss = 0.00605679\n",
      "Iteration 102, loss = 0.00605646\n",
      "Iteration 103, loss = 0.00605608\n",
      "Training loss did not improve more than tol=0.000100 for 10 consecutive epochs. Setting learning rate to 0.000032\n",
      "Iteration 104, loss = 0.00605511\n",
      "Iteration 105, loss = 0.00605503\n",
      "Iteration 106, loss = 0.00605496\n",
      "Iteration 107, loss = 0.00605488\n",
      "Iteration 108, loss = 0.00605481\n",
      "Iteration 109, loss = 0.00605474\n",
      "Iteration 110, loss = 0.00605466\n",
      "Iteration 111, loss = 0.00605459\n",
      "Iteration 112, loss = 0.00605451\n",
      "Iteration 113, loss = 0.00605444\n",
      "Iteration 114, loss = 0.00605437\n",
      "Training loss did not improve more than tol=0.000100 for 10 consecutive epochs. Setting learning rate to 0.000006\n",
      "Iteration 115, loss = 0.00605417\n",
      "Iteration 116, loss = 0.00605416\n",
      "Iteration 117, loss = 0.00605414\n",
      "Iteration 118, loss = 0.00605413\n",
      "Iteration 119, loss = 0.00605411\n",
      "Iteration 120, loss = 0.00605410\n",
      "Iteration 121, loss = 0.00605409\n",
      "Iteration 122, loss = 0.00605407\n",
      "Iteration 123, loss = 0.00605406\n",
      "Iteration 124, loss = 0.00605404\n",
      "Iteration 125, loss = 0.00605403\n",
      "Training loss did not improve more than tol=0.000100 for 10 consecutive epochs. Setting learning rate to 0.000001\n",
      "Iteration 126, loss = 0.00605399\n",
      "Iteration 127, loss = 0.00605399\n",
      "Iteration 128, loss = 0.00605398\n",
      "Iteration 129, loss = 0.00605398\n",
      "Iteration 130, loss = 0.00605398\n",
      "Iteration 131, loss = 0.00605397\n",
      "Iteration 132, loss = 0.00605397\n",
      "Iteration 133, loss = 0.00605397\n",
      "Iteration 134, loss = 0.00605396\n",
      "Iteration 135, loss = 0.00605396\n",
      "Iteration 136, loss = 0.00605396\n",
      "Training loss did not improve more than tol=0.000100 for 10 consecutive epochs. Setting learning rate to 0.000000\n",
      "Iteration 137, loss = 0.00605395\n",
      "Iteration 138, loss = 0.00605395\n",
      "Iteration 139, loss = 0.00605395\n",
      "Iteration 140, loss = 0.00605395\n",
      "Iteration 141, loss = 0.00605395\n",
      "Iteration 142, loss = 0.00605395\n",
      "Iteration 143, loss = 0.00605395\n",
      "Iteration 144, loss = 0.00605395\n",
      "Iteration 145, loss = 0.00605395\n",
      "Iteration 146, loss = 0.00605395\n",
      "Iteration 147, loss = 0.00605395\n",
      "Training loss did not improve more than tol=0.000100 for 10 consecutive epochs. Learning rate too small. Stopping.\n",
      "Prediction accuracy: 0.9761666666666666\n"
     ]
    }
   ],
   "source": [
    "norm_X = preprocessing.normalize(X)\n",
    "\n",
    "p_random_seed = 42\n",
    "\n",
    "X_train, X_test, y_train, y_test = model_selection.train_test_split(\n",
    "    norm_X, y, test_size=0.2, random_state=p_random_seed)\n",
    "\n",
    "# parameters for the MLP shape\n",
    "hidden_layer_sizes = (128, 64)  # tuple of sizes of hidden layers\n",
    "activation ='relu'  # activation_fkt, {‘identity’, ‘logistic’, ‘tanh’, ‘relu’}\n",
    "\n",
    "#parameters for the learning\n",
    "optimiser = 'sgd'  # {‘lbfgs’, ‘sgd’, ‘adam’}\n",
    "learning_rate_init = 0.1  # learning_rate, try something smaller first!\n",
    "learning_rate = 'adaptive'  # learning_rate_type, {‘constant’, ‘invscaling’, ‘adaptive’}\n",
    "max_iter = 200  # epoches, number of training interations\n",
    "batch_size = 32  # number of training examples per epoch\n",
    "momentum = 0.95  # [0,1]\n",
    "\n",
    "clf_mlp = neural_network.MLPClassifier(\n",
    "    random_state=p_random_seed, solver=optimiser, activation=activation,\n",
    "    hidden_layer_sizes=hidden_layer_sizes, learning_rate_init=learning_rate_init,\n",
    "    max_iter=max_iter, learning_rate=learning_rate, momentum=momentum,\n",
    "    batch_size=batch_size, nesterovs_momentum=True, alpha=1e-05,\n",
    "    beta_1=0.9, beta_2=0.999, epsilon=1e-08, early_stopping=False,\n",
    "    n_iter_no_change=10, power_t=0.5, tol=0.0001, validation_fraction=0.1,\n",
    "    shuffle=False, verbose=True, warm_start=False)\n",
    "\n",
    "# X_train = pd.DataFrame(X_train)\n",
    "# y_train = pd.DataFrame(y_train, columns=['label'])\n",
    "\n",
    "print(X_train)\n",
    "# X_train.join(y_train)\n",
    "\n",
    "clf_mlp.fit(X_train, y_train)\n",
    "test_accuracy = clf_mlp.score(X_test, y_test)\n",
    "print(\"Prediction accuracy:\", test_accuracy)"
   ]
  },
  {
   "cell_type": "markdown",
   "metadata": {
    "id": "PYy6SSASXUAU",
    "pycharm": {
     "name": "#%% md\n"
    }
   },
   "source": [
    "#### Show prediction and visualisation"
   ]
  },
  {
   "cell_type": "code",
   "execution_count": 28,
   "metadata": {
    "id": "tUiwvZ2nXUAV",
    "pycharm": {
     "name": "#%%\n"
    }
   },
   "outputs": [
    {
     "name": "stdout",
     "output_type": "stream",
     "text": [
      "              precision    recall  f1-score   support\n",
      "\n",
      "         0.0       0.99      0.98      0.98      1175\n",
      "         1.0       0.99      0.99      0.99      1322\n",
      "         2.0       0.98      0.97      0.98      1174\n",
      "         3.0       0.97      0.97      0.97      1219\n",
      "         4.0       0.98      0.98      0.98      1176\n",
      "         5.0       0.97      0.96      0.97      1104\n",
      "         6.0       0.99      0.99      0.99      1177\n",
      "         7.0       0.98      0.97      0.98      1299\n",
      "         8.0       0.96      0.97      0.96      1160\n",
      "         9.0       0.96      0.97      0.97      1194\n",
      "\n",
      "    accuracy                           0.98     12000\n",
      "   macro avg       0.98      0.98      0.98     12000\n",
      "weighted avg       0.98      0.98      0.98     12000\n",
      "\n"
     ]
    },
    {
     "data": {
      "text/plain": [
       "Text(50.722222222222214, 0.5, 'true label')"
      ]
     },
     "execution_count": 28,
     "metadata": {},
     "output_type": "execute_result"
    },
    {
     "data": {
      "image/png": "[encoded data removed]",
      "text/plain": [
       "<Figure size 640x480 with 2 Axes>"
      ]
     },
     "metadata": {},
     "output_type": "display_data"
    }
   ],
   "source": [
    "test_pred = clf_mlp.predict(X_test)\n",
    "print(metrics.classification_report(y_test, test_pred))\n",
    "\n",
    "confusion_matrix = metrics.confusion_matrix(y_test, test_pred)\n",
    "plot_tree_cm = sns.heatmap(confusion_matrix, annot=True, center=0)\n",
    "plot_tree_cm.set_xlabel('predicted label')\n",
    "plot_tree_cm.set_ylabel('true label')"
   ]
  }
 ],
 "metadata": {
  "colab": {
   "provenance": []
  },
  "kernelspec": {
   "display_name": "base",
   "language": "python",
   "name": "python3"
  },
  "language_info": {
   "codemirror_mode": {
    "name": "ipython",
    "version": 3
   },
   "file_extension": ".py",
   "mimetype": "text/x-python",
   "name": "python",
   "nbconvert_exporter": "python",
   "pygments_lexer": "ipython3",
   "version": "3.13.5"
  }
 },
 "nbformat": 4,
 "nbformat_minor": 0
}
