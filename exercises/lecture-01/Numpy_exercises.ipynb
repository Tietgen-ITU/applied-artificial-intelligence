{
 "cells": [
  {
   "cell_type": "markdown",
   "metadata": {
    "id": "YQNQ4keK-xjv"
   },
   "source": [
    "#  1a. Numpy exercises"
   ]
  },
  {
   "cell_type": "markdown",
   "metadata": {
    "id": "M2o48Okh-_GD"
   },
   "source": [
    "1. Import the numpy package under the name `np`\n",
    "\n",
    "`hint: import … as`"
   ]
  },
  {
   "cell_type": "code",
   "execution_count": 16,
   "metadata": {
    "id": "XN7DFiM7_Pvp"
   },
   "outputs": [],
   "source": [
    "import numpy as np\n",
    "\n",
    "np.random.seed(42)  # For reproducibility\n"
   ]
  },
  {
   "cell_type": "markdown",
   "metadata": {
    "id": "POLBAG5M_QPQ"
   },
   "source": [
    "2. Create a zero vector of size 10\n",
    "\n",
    "`hint: np.zeros`\n",
    "\n"
   ]
  },
  {
   "cell_type": "code",
   "execution_count": 17,
   "metadata": {
    "colab": {
     "base_uri": "https://localhost:8080/"
    },
    "executionInfo": {
     "elapsed": 287,
     "status": "ok",
     "timestamp": 1720428612123,
     "user": {
      "displayName": "Đorđe Grbić",
      "userId": "17224412897437983949"
     },
     "user_tz": -120
    },
    "id": "aZT2R1tkBicc",
    "outputId": "08826371-0755-472a-9321-0abfcec78ac1"
   },
   "outputs": [
    {
     "data": {
      "text/plain": [
       "array([[0., 0., 0., 0., 0., 0., 0., 0., 0., 0.],\n",
       "       [0., 0., 0., 0., 0., 0., 0., 0., 0., 0.],\n",
       "       [0., 0., 0., 0., 0., 0., 0., 0., 0., 0.],\n",
       "       [0., 0., 0., 0., 0., 0., 0., 0., 0., 0.],\n",
       "       [0., 0., 0., 0., 0., 0., 0., 0., 0., 0.],\n",
       "       [0., 0., 0., 0., 0., 0., 0., 0., 0., 0.],\n",
       "       [0., 0., 0., 0., 0., 0., 0., 0., 0., 0.],\n",
       "       [0., 0., 0., 0., 0., 0., 0., 0., 0., 0.],\n",
       "       [0., 0., 0., 0., 0., 0., 0., 0., 0., 0.],\n",
       "       [0., 0., 0., 0., 0., 0., 0., 0., 0., 0.]])"
      ]
     },
     "execution_count": 17,
     "metadata": {},
     "output_type": "execute_result"
    }
   ],
   "source": [
    "np.zeros((10,10))"
   ]
  },
  {
   "cell_type": "markdown",
   "metadata": {
    "id": "6jmMwHwpAA2H"
   },
   "source": [
    "3. Create a vector with values ranging from 0 to 100\n",
    "\n",
    "`hint: arange`"
   ]
  },
  {
   "cell_type": "code",
   "execution_count": 18,
   "metadata": {
    "colab": {
     "base_uri": "https://localhost:8080/"
    },
    "executionInfo": {
     "elapsed": 287,
     "status": "ok",
     "timestamp": 1720428743839,
     "user": {
      "displayName": "Đorđe Grbić",
      "userId": "17224412897437983949"
     },
     "user_tz": -120
    },
    "id": "ZA46tEGcik4G",
    "outputId": "123e3c7b-a470-47b7-af90-dc44ce5fee72"
   },
   "outputs": [
    {
     "data": {
      "text/plain": [
       "array([ 0,  1,  2,  3,  4,  5,  6,  7,  8,  9, 10, 11, 12, 13, 14, 15, 16,\n",
       "       17, 18, 19, 20, 21, 22, 23, 24, 25, 26, 27, 28, 29, 30, 31, 32, 33,\n",
       "       34, 35, 36, 37, 38, 39, 40, 41, 42, 43, 44, 45, 46, 47, 48, 49, 50,\n",
       "       51, 52, 53, 54, 55, 56, 57, 58, 59, 60, 61, 62, 63, 64, 65, 66, 67,\n",
       "       68, 69, 70, 71, 72, 73, 74, 75, 76, 77, 78, 79, 80, 81, 82, 83, 84,\n",
       "       85, 86, 87, 88, 89, 90, 91, 92, 93, 94, 95, 96, 97, 98, 99])"
      ]
     },
     "execution_count": 18,
     "metadata": {},
     "output_type": "execute_result"
    }
   ],
   "source": [
    "np.arange(0, 100, 1)"
   ]
  },
  {
   "cell_type": "markdown",
   "metadata": {
    "id": "RbwjVj99AWXZ"
   },
   "source": [
    "4. Create a 10x10 matrix with random values and find the minimum, maximum, and mean values. Normalize the said matrix\n",
    "\n",
    "`hint: min, max, ...`"
   ]
  },
  {
   "cell_type": "code",
   "execution_count": 19,
   "metadata": {
    "id": "_0VEPKs4AxLS"
   },
   "outputs": [
    {
     "name": "stdout",
     "output_type": "stream",
     "text": [
      "Minimum value:\n",
      " 0.005522117123602399\n",
      "Maximum value:\n",
      " 0.9868869366005173\n",
      "Mean value:\n",
      " 0.47018074337820936\n",
      "Manually calculated norm:\n",
      " 5.61390454624632\n",
      "Numpy calculated norm:\n",
      " 5.61390454624632\n"
     ]
    }
   ],
   "source": [
    "rand_matrix = np.random.random(size=(10, 10))\n",
    "\n",
    "min_val = np.min(rand_matrix)\n",
    "max_val = np.max(rand_matrix)\n",
    "mean_val = np.mean(rand_matrix)\n",
    "\n",
    "min_max_diff = max_val - min_val\n",
    "\n",
    "normalized_matrix = (rand_matrix - min_val)/min_max_diff\n",
    "linalg_norm_matrix = np.linalg.norm(normalized_matrix) # NOTE: This is a simple approach. Just us that one!\n",
    "\n",
    "print(\"Minimum value:\\n\", min_val)\n",
    "print(\"Maximum value:\\n\", max_val)\n",
    "print(\"Mean value:\\n\", mean_val)\n",
    "\n",
    "print(\"Manually calculated norm:\\n\", linalg_norm_matrix)\n",
    "print(\"Numpy calculated norm:\\n\", np.linalg.norm(normalized_matrix))"
   ]
  },
  {
   "cell_type": "markdown",
   "metadata": {
    "id": "RNcNkqTHAxhA"
   },
   "source": [
    "5. Consider a random 10x2 matrix representing cartesian coordinates, convert them to polar coordinates\n",
    "\n",
    "`hint: np.sqrt, np.arctan2`"
   ]
  },
  {
   "cell_type": "code",
   "execution_count": 20,
   "metadata": {
    "id": "TimwEyjqBxtP"
   },
   "outputs": [
    {
     "name": "stdout",
     "output_type": "stream",
     "text": [
      "Coordinates:\n",
      " [[0.03142919 0.63641041]\n",
      " [0.31435598 0.50857069]\n",
      " [0.90756647 0.24929223]\n",
      " [0.41038292 0.75555114]\n",
      " [0.22879817 0.07697991]\n",
      " [0.28975145 0.16122129]\n",
      " [0.92969765 0.80812038]\n",
      " [0.63340376 0.87146059]\n",
      " [0.80367208 0.18657006]\n",
      " [0.892559   0.53934224]]\n",
      "Radius:\n",
      " [0.63718601 0.59788279 0.94118198 0.85980909 0.24140113 0.33158439\n",
      " 1.2318264  1.07733183 0.82504375 1.04285743]\n",
      "Angle:\n",
      " [0.049345   0.55363413 1.30272573 0.49757433 1.24624039 1.06304334\n",
      " 0.85524409 0.6285067  1.34268977 1.02724663]\n",
      "Polar coordinates:\n",
      " [[0.63718601 0.049345  ]\n",
      " [0.59788279 0.55363413]\n",
      " [0.94118198 1.30272573]\n",
      " [0.85980909 0.49757433]\n",
      " [0.24140113 1.24624039]\n",
      " [0.33158439 1.06304334]\n",
      " [1.2318264  0.85524409]\n",
      " [1.07733183 0.6285067 ]\n",
      " [0.82504375 1.34268977]\n",
      " [1.04285743 1.02724663]]\n"
     ]
    }
   ],
   "source": [
    "coor_matrix = np.random.random(size=(10, 2))\n",
    "\n",
    "radius_matrix = np.sqrt(np.sum(coor_matrix ** 2, axis=1))\n",
    "angle_matrix = np.arctan2(coor_matrix[:, 0], coor_matrix[:, 1])\n",
    "\n",
    "print(\"Coordinates:\\n\", coor_matrix)\n",
    "print(\"Radius:\\n\", radius_matrix)\n",
    "print(\"Angle:\\n\", angle_matrix)\n",
    "\n",
    "polar_matrix = np.column_stack((radius_matrix, angle_matrix))\n",
    "\n",
    "print(\"Polar coordinates:\\n\", polar_matrix)\n"
   ]
  },
  {
   "cell_type": "markdown",
   "metadata": {
    "id": "StYSV1XMBx3D"
   },
   "source": [
    "6. Create random vector of size 10 and replace the maximum value by 0\n",
    "\n",
    "`hint: argmax`"
   ]
  },
  {
   "cell_type": "code",
   "execution_count": 37,
   "metadata": {
    "id": "OJLNkf9nEYBj"
   },
   "outputs": [
    {
     "name": "stdout",
     "output_type": "stream",
     "text": [
      "Vector shape: (10,)\n",
      "Vector: [0.80936116 0.81011339 0.86707232 0.91324055 0.5113424  0.50151629\n",
      " 0.79829518 0.64996393 0.70196688 0.79579267]\n",
      "----------\n",
      "Resulting vector: [0.80936116 0.81011339 0.86707232 0.         0.5113424  0.50151629\n",
      " 0.79829518 0.64996393 0.70196688 0.79579267]\n"
     ]
    }
   ],
   "source": [
    "a = np.random.rand(10)\n",
    "\n",
    "print(\"Vector shape:\", a.shape)\n",
    "print(\"Vector:\", a)\n",
    "\n",
    "a[np.argmax(a)] = 0\n",
    "\n",
    "print(\"----------\")\n",
    "print(\"Resulting vector:\", a)"
   ]
  },
  {
   "cell_type": "markdown",
   "metadata": {
    "id": "pkMmd0g9EMTX"
   },
   "source": [
    "7. Create a structured array with x and y coordinates covering the [0,1]x[0,1] area.\n",
    "\n",
    "`hint: np.meshgrid`"
   ]
  },
  {
   "cell_type": "code",
   "execution_count": 48,
   "metadata": {
    "colab": {
     "base_uri": "https://localhost:8080/"
    },
    "executionInfo": {
     "elapsed": 291,
     "status": "ok",
     "timestamp": 1626098348908,
     "user": {
      "displayName": "Đorđe Grbić",
      "photoUrl": "https://lh3.googleusercontent.com/a-/AOh14GjMtdPDPC6XJoAlVJ9SyzF_WldAaS1YlXbiUOAReA=s64",
      "userId": "17224412897437983949"
     },
     "user_tz": -120
    },
    "id": "bl8BChgEEYvE",
    "outputId": "bab731d6-be47-4735-a658-28b8eeebfc4d"
   },
   "outputs": [
    {
     "name": "stdout",
     "output_type": "stream",
     "text": [
      "[0.  0.1 0.2 0.3 0.4 0.5 0.6 0.7 0.8 0.9 1. ]\n",
      "X shape:  (11, 11)\n",
      "Y shape:  (11, 11)\n",
      "Structured array shape:  (11, 11)\n",
      "----------\n",
      "Structured array:\n",
      " [[(0. , 0. ) (0.1, 0. ) (0.2, 0. ) (0.3, 0. ) (0.4, 0. ) (0.5, 0. )\n",
      "  (0.6, 0. ) (0.7, 0. ) (0.8, 0. ) (0.9, 0. ) (1. , 0. )]\n",
      " [(0. , 0.1) (0.1, 0.1) (0.2, 0.1) (0.3, 0.1) (0.4, 0.1) (0.5, 0.1)\n",
      "  (0.6, 0.1) (0.7, 0.1) (0.8, 0.1) (0.9, 0.1) (1. , 0.1)]\n",
      " [(0. , 0.2) (0.1, 0.2) (0.2, 0.2) (0.3, 0.2) (0.4, 0.2) (0.5, 0.2)\n",
      "  (0.6, 0.2) (0.7, 0.2) (0.8, 0.2) (0.9, 0.2) (1. , 0.2)]\n",
      " [(0. , 0.3) (0.1, 0.3) (0.2, 0.3) (0.3, 0.3) (0.4, 0.3) (0.5, 0.3)\n",
      "  (0.6, 0.3) (0.7, 0.3) (0.8, 0.3) (0.9, 0.3) (1. , 0.3)]\n",
      " [(0. , 0.4) (0.1, 0.4) (0.2, 0.4) (0.3, 0.4) (0.4, 0.4) (0.5, 0.4)\n",
      "  (0.6, 0.4) (0.7, 0.4) (0.8, 0.4) (0.9, 0.4) (1. , 0.4)]\n",
      " [(0. , 0.5) (0.1, 0.5) (0.2, 0.5) (0.3, 0.5) (0.4, 0.5) (0.5, 0.5)\n",
      "  (0.6, 0.5) (0.7, 0.5) (0.8, 0.5) (0.9, 0.5) (1. , 0.5)]\n",
      " [(0. , 0.6) (0.1, 0.6) (0.2, 0.6) (0.3, 0.6) (0.4, 0.6) (0.5, 0.6)\n",
      "  (0.6, 0.6) (0.7, 0.6) (0.8, 0.6) (0.9, 0.6) (1. , 0.6)]\n",
      " [(0. , 0.7) (0.1, 0.7) (0.2, 0.7) (0.3, 0.7) (0.4, 0.7) (0.5, 0.7)\n",
      "  (0.6, 0.7) (0.7, 0.7) (0.8, 0.7) (0.9, 0.7) (1. , 0.7)]\n",
      " [(0. , 0.8) (0.1, 0.8) (0.2, 0.8) (0.3, 0.8) (0.4, 0.8) (0.5, 0.8)\n",
      "  (0.6, 0.8) (0.7, 0.8) (0.8, 0.8) (0.9, 0.8) (1. , 0.8)]\n",
      " [(0. , 0.9) (0.1, 0.9) (0.2, 0.9) (0.3, 0.9) (0.4, 0.9) (0.5, 0.9)\n",
      "  (0.6, 0.9) (0.7, 0.9) (0.8, 0.9) (0.9, 0.9) (1. , 0.9)]\n",
      " [(0. , 1. ) (0.1, 1. ) (0.2, 1. ) (0.3, 1. ) (0.4, 1. ) (0.5, 1. )\n",
      "  (0.6, 1. ) (0.7, 1. ) (0.8, 1. ) (0.9, 1. ) (1. , 1. )]]\n"
     ]
    }
   ],
   "source": [
    "x = np.arange(0, 1.1, 0.1)\n",
    "print(x)\n",
    "\n",
    "X, Y = np.meshgrid(x, x)\n",
    "# print(\"Coordinates X: \\n\", X)\n",
    "# print(\"Coordinates Y: \\n\", Y)\n",
    "\n",
    "# NOTE: A structured array in numpy is an array with labels on the columns. It can be created like below:\n",
    "structured_array = np.zeros(X.shape, dtype=[('x', float), ('y', float)])\n",
    "\n",
    "print(\"X shape: \", X.shape)\n",
    "print(\"Y shape: \", Y.shape)\n",
    "print(\"Structured array shape: \", structured_array.shape)\n",
    "print(\"----------\")\n",
    "\n",
    "# We can then assign the value to the structured array:\n",
    "structured_array['x'] = X\n",
    "structured_array['y'] = Y\n",
    "\n",
    "print(\"Structured array:\\n\", structured_array)"
   ]
  },
  {
   "cell_type": "markdown",
   "metadata": {
    "id": "Ly6Yg3ABEY2-"
   },
   "source": [
    "8. Having a scalar `x` and a random vector `v`, find a value in `v` that is closest to `x`\n",
    "\n",
    "`hint: argmin`"
   ]
  },
  {
   "cell_type": "code",
   "execution_count": null,
   "metadata": {
    "id": "WC3FkkfkFCGU"
   },
   "outputs": [
    {
     "name": "stdout",
     "output_type": "stream",
     "text": [
      "Random number x: 63\n",
      "Random matrix V:\n",
      " [[334.24389082 770.91220375 106.59825313  75.13778174 728.1887562\n",
      "  495.49131621 688.40239643 434.8273386  246.40203324 819.10231767]\n",
      " [799.41587897 694.69647085 272.14513723 590.23066687 360.97389694\n",
      "   91.58207333 917.31357546 136.81863092 950.23735382 446.00577296]\n",
      " [185.13292884 541.90094738 872.94583588 732.22488641 806.56114786\n",
      "  658.78336671 692.27656452 849.19565157 249.66800886 489.42496364]\n",
      " [221.20944182 987.668008   944.05933969  39.42681137 705.57517252\n",
      "  925.24831742 180.57534513 567.94523055 915.48829759  33.94597859]\n",
      " [697.42026725 297.34900737 924.39619538 971.05824517 944.26648911\n",
      "  474.21421666 862.04265099 844.54939854 319.10047324 828.91547415]\n",
      " [ 37.00763472 596.26987848 230.00883729 120.56688578  76.95320163\n",
      "  696.28877588 339.87496377 724.76677153  65.3563408  315.29033783]\n",
      " [539.49129238 790.72316484 318.75250293 625.89137644 885.97774824\n",
      "  615.86318818 232.95947475  24.40078156 870.0988739   21.26941085]\n",
      " [874.70167268 528.93713403 939.06769851 798.78323577 997.93411053\n",
      "  350.71181545 767.18828893 401.93091361 479.8756203  627.50546322]\n",
      " [873.67711419 984.0834692  768.27341386 417.76678217 421.35700228\n",
      "  737.58230159 238.77714577 110.47411313 354.62215764 287.23899165]\n",
      " [296.30812046 233.60775105  42.09318964  17.87393473 987.72238974\n",
      "  427.77313374 384.32664716 679.64728269 218.25388787 949.96118395]]\n",
      "Index of closest value to x in V: (np.int64(5), np.int64(8))\n",
      "Closest value to x in V: \n",
      " 65.35634079894237\n"
     ]
    }
   ],
   "source": [
    "import random\n",
    "\n",
    "V = np.random.random(size=(10, 10)) * 1000\n",
    "x = random.randint(1, 1000)\n",
    "\n",
    "# print(\"Random number x:\", x)\n",
    "# print(\"Random matrix V:\\n\", V)\n",
    "\n",
    "diff_matrix = np.abs(V - x)\n",
    "closest_index = np.unravel_index(np.argmin(diff_matrix), V.shape) # NOTE: unravel_index converts the flat index to a tuple of indices for the 2D array\n",
    "print(\"Index of closest value to x in V:\", closest_index)\n",
    "print(\"Closest value to x in V: \\n\", V[closest_index])\n"
   ]
  },
  {
   "cell_type": "markdown",
   "metadata": {
    "id": "bz-Y3S-PFKgB"
   },
   "source": [
    "9. Consider a random vector with shape (100,2) representing coordinates, find point by point distances and put them in a (100,100) array."
   ]
  },
  {
   "cell_type": "code",
   "execution_count": 81,
   "metadata": {
    "id": "NG7-1x9WPu6K"
   },
   "outputs": [
    {
     "name": "stdout",
     "output_type": "stream",
     "text": [
      "[[  0.         358.57381763 264.81855806 455.10743708 534.58645862\n",
      "  510.6197138  194.46886073 403.39641694 138.4638951  154.20797144]\n",
      " [358.57381763   0.         620.99458765 812.97471859 858.63461918\n",
      "  509.26512058 527.4972946  717.76298615 379.54577642 510.92452817]\n",
      " [264.81855806 620.99458765   0.         210.71512734 384.88993287\n",
      "  685.54622139 125.58505143 214.9904281  323.92110423 110.62300064]\n",
      " [455.10743708 812.97471859 210.71512734   0.         250.05949307\n",
      "  771.87069618 335.15668224 325.88093026 469.47307748 309.21241885]\n",
      " [534.58645862 858.63461918 384.88993287 250.05949307   0.\n",
      "  659.19392265 500.08456047 560.93836903 479.4128556  435.31244433]\n",
      " [510.6197138  509.26512058 685.54622139 771.87069618 659.19392265\n",
      "    0.         682.61898062 883.47634533 382.00731248 605.4953472 ]\n",
      " [194.46886073 527.4972946  125.58505143 335.15668224 500.08456047\n",
      "  682.61898062   0.         209.3212573  301.22568805  87.78037923]\n",
      " [403.39641694 717.76298615 214.9904281  325.88093026 560.93836903\n",
      "  883.47634533 209.3212573    0.         505.78365998 278.09059946]\n",
      " [138.4638951  379.54577642 323.92110423 469.47307748 479.4128556\n",
      "  382.00731248 301.22568805 505.78365998   0.         228.89335842]\n",
      " [154.20797144 510.92452817 110.62300064 309.21241885 435.31244433\n",
      "  605.4953472   87.78037923 278.09059946 228.89335842   0.        ]]\n"
     ]
    }
   ],
   "source": [
    "V = np.random.random(size=(10, 2)) * 1000\n",
    "diff = V[:, np.newaxis, :] - V[np.newaxis, :, :]  # Broadcasting to calculate pairwise differences\n",
    "\n",
    "print(np.sqrt(np.sum(diff ** 2, axis=-1)))  # Squared differences"
   ]
  },
  {
   "cell_type": "markdown",
   "metadata": {
    "id": "mASMahBpGOZW"
   },
   "source": [
    "10. Create a random (100, 100) matrix with values from 0 to 1. Turn all values lower than 0.5 into 0.0"
   ]
  },
  {
   "cell_type": "code",
   "execution_count": 94,
   "metadata": {
    "id": "nfJsjzgeGlOs"
   },
   "outputs": [
    {
     "name": "stdout",
     "output_type": "stream",
     "text": [
      "[[0.57532798 0.         0.         ... 0.         0.         0.77557641]\n",
      " [0.         0.85779958 0.         ... 0.         0.         0.5153355 ]\n",
      " [0.         0.         0.         ... 0.63832309 0.         0.        ]\n",
      " ...\n",
      " [0.         0.         0.57818373 ... 0.86700308 0.94554351 0.        ]\n",
      " [0.87622721 0.         0.99049921 ... 0.         0.5784052  0.        ]\n",
      " [0.         0.         0.59506551 ... 0.         0.         0.        ]]\n"
     ]
    }
   ],
   "source": [
    "V = np.random.random(size=(100, 100))\n",
    "min_matrix = np.zeros(V.shape) + 0.5\n",
    "\n",
    "less_matrix = np.where(V < min_matrix, np.zeros(V.shape), V)\n",
    "print(less_matrix)"
   ]
  },
  {
   "cell_type": "markdown",
   "metadata": {
    "id": "7FwporQmKMfV"
   },
   "source": [
    "11. Do a dot product of two matrices and print only the diagonal values."
   ]
  },
  {
   "cell_type": "code",
   "execution_count": null,
   "metadata": {
    "id": "DqLnFglFKijP"
   },
   "outputs": [
    {
     "name": "stdout",
     "output_type": "stream",
     "text": [
      "1.896345807712728\n",
      "2.0582090757414875\n",
      "2.9303219719197267\n",
      "1.748022223861739\n",
      "2.3730962278098047\n",
      "2.7623668313679706\n",
      "1.5104512508289059\n",
      "1.9712702068147676\n",
      "2.439827989675519\n",
      "2.3455285944209003\n"
     ]
    }
   ],
   "source": [
    "X = np.random.random(size=(10, 10))\n",
    "Y = np.random.random(size=(10, 10))\n",
    "\n",
    "D = np.dot(X, Y)  # Matrix multiplication\n",
    "\n",
    "# print(D)\n",
    "\n",
    "idx = 0\n",
    "for (x,y), val in np.ndenumerate(D):\n",
    "    if x == y and idx == x:\n",
    "        print(val)\n",
    "        idx += 1\n"
   ]
  },
  {
   "cell_type": "markdown",
   "metadata": {
    "id": "FwBos0hcKj5j"
   },
   "source": [
    "12. Swap two rows of a matrix."
   ]
  },
  {
   "cell_type": "code",
   "execution_count": 100,
   "metadata": {
    "id": "sXSrNvAhKr_1"
   },
   "outputs": [
    {
     "name": "stdout",
     "output_type": "stream",
     "text": [
      "Original X:\n",
      " [[0.88885217 0.98839265 0.35268335 0.16377398 0.16773071 0.3868651\n",
      "  0.41339826 0.96221308 0.85636539 0.97450768]\n",
      " [0.57627582 0.03669536 0.33709872 0.86048054 0.5373653  0.62029502\n",
      "  0.61686547 0.97376066 0.53436419 0.70013874]\n",
      " [0.09722227 0.44649727 0.89087636 0.72035431 0.47188698 0.73505639\n",
      "  0.12505098 0.80481721 0.80534409 0.78027378]\n",
      " [0.54809591 0.03663617 0.81037068 0.05097061 0.96420407 0.64300754\n",
      "  0.01606824 0.10645559 0.63213854 0.99779436]\n",
      " [0.08959214 0.06778541 0.67664674 0.62111311 0.86853777 0.86248186\n",
      "  0.63170006 0.29988831 0.69102689 0.18426722]\n",
      " [0.10238737 0.69430887 0.42431208 0.75276387 0.07820468 0.99169532\n",
      "  0.51442619 0.89232318 0.48100015 0.24582844]\n",
      " [0.32176996 0.89787262 0.70067136 0.19146868 0.35095999 0.03284749\n",
      "  0.64158143 0.37258431 0.05471513 0.8245935 ]\n",
      " [0.43225106 0.74733324 0.60060529 0.47022605 0.10455414 0.62945712\n",
      "  0.55667157 0.98823386 0.58272452 0.54235408]\n",
      " [0.94089667 0.47947243 0.19819302 0.39300325 0.29081985 0.50734352\n",
      "  0.88285859 0.00811075 0.52876495 0.56995274]\n",
      " [0.28162024 0.53929738 0.89458249 0.86384985 0.1985821  0.52217647\n",
      "  0.73151637 0.95179433 0.75079049 0.66107429]]\n",
      "Modified X:\n",
      " [[0.57627582 0.03669536 0.33709872 0.86048054 0.5373653  0.62029502\n",
      "  0.61686547 0.97376066 0.53436419 0.70013874]\n",
      " [0.88885217 0.98839265 0.35268335 0.16377398 0.16773071 0.3868651\n",
      "  0.41339826 0.96221308 0.85636539 0.97450768]\n",
      " [0.09722227 0.44649727 0.89087636 0.72035431 0.47188698 0.73505639\n",
      "  0.12505098 0.80481721 0.80534409 0.78027378]\n",
      " [0.54809591 0.03663617 0.81037068 0.05097061 0.96420407 0.64300754\n",
      "  0.01606824 0.10645559 0.63213854 0.99779436]\n",
      " [0.08959214 0.06778541 0.67664674 0.62111311 0.86853777 0.86248186\n",
      "  0.63170006 0.29988831 0.69102689 0.18426722]\n",
      " [0.10238737 0.69430887 0.42431208 0.75276387 0.07820468 0.99169532\n",
      "  0.51442619 0.89232318 0.48100015 0.24582844]\n",
      " [0.32176996 0.89787262 0.70067136 0.19146868 0.35095999 0.03284749\n",
      "  0.64158143 0.37258431 0.05471513 0.8245935 ]\n",
      " [0.43225106 0.74733324 0.60060529 0.47022605 0.10455414 0.62945712\n",
      "  0.55667157 0.98823386 0.58272452 0.54235408]\n",
      " [0.94089667 0.47947243 0.19819302 0.39300325 0.29081985 0.50734352\n",
      "  0.88285859 0.00811075 0.52876495 0.56995274]\n",
      " [0.28162024 0.53929738 0.89458249 0.86384985 0.1985821  0.52217647\n",
      "  0.73151637 0.95179433 0.75079049 0.66107429]]\n"
     ]
    }
   ],
   "source": [
    "X = np.random.random(size=(10, 10))\n",
    "\n",
    "row_zero = X[0, :].copy()\n",
    "row_one = X[1, :].copy()\n",
    "\n",
    "print(\"Original X:\\n\", X)\n",
    "\n",
    "X[0, :] = row_one\n",
    "X[1, :] = row_zero\n",
    "\n",
    "print(\"Modified X:\\n\", X)"
   ]
  },
  {
   "cell_type": "markdown",
   "metadata": {
    "id": "BAvhQbHeQr5j"
   },
   "source": [
    "13. Solve the system of equations:\n",
    "\n",
    "  $3x - 11y = 3$\n",
    "\n",
    "  $x - 4y = 6$\n",
    "\n",
    "  using `numpy.linalg.solve`"
   ]
  },
  {
   "cell_type": "code",
   "execution_count": 102,
   "metadata": {
    "id": "3NDMuVzAQvzI"
   },
   "outputs": [
    {
     "name": "stdout",
     "output_type": "stream",
     "text": [
      "[[-54.]\n",
      " [-15.]]\n"
     ]
    }
   ],
   "source": [
    "A = np.array([[3, -11],[1,-4]])\n",
    "b = np.array([[3], [6]])\n",
    "\n",
    "x = np.linalg.solve(A, b)\n",
    "\n",
    "print(x)"
   ]
  }
 ],
 "metadata": {
  "colab": {
   "provenance": []
  },
  "kernelspec": {
   "display_name": "base",
   "language": "python",
   "name": "python3"
  },
  "language_info": {
   "codemirror_mode": {
    "name": "ipython",
    "version": 3
   },
   "file_extension": ".py",
   "mimetype": "text/x-python",
   "name": "python",
   "nbconvert_exporter": "python",
   "pygments_lexer": "ipython3",
   "version": "3.13.5"
  }
 },
 "nbformat": 4,
 "nbformat_minor": 0
}
