{
 "cells": [
  {
   "cell_type": "markdown",
   "metadata": {},
   "source": [
    "# Decission trees hand-in"
   ]
  },
  {
   "cell_type": "markdown",
   "metadata": {},
   "source": [
    "Import libraries and functions"
   ]
  },
  {
   "cell_type": "code",
   "execution_count": 6,
   "metadata": {},
   "outputs": [],
   "source": [
    "import sys\n",
    "from io import StringIO\n",
    "from sklearn.tree import DecisionTreeClassifier, DecisionTreeRegressor\n",
    "import pandas as pd\n",
    "import numpy as np\n",
    "import sklearn as sk\n",
    "from sklearn.model_selection import train_test_split\n",
    "import matplotlib.pyplot as plt\n",
    "from sklearn.metrics import roc_curve, auc, confusion_matrix"
   ]
  },
  {
   "cell_type": "markdown",
   "metadata": {},
   "source": [
    "Load dataset"
   ]
  },
  {
   "cell_type": "code",
   "execution_count": 15,
   "metadata": {},
   "outputs": [
    {
     "data": {
      "text/html": [
       "<div>\n",
       "<style scoped>\n",
       "    .dataframe tbody tr th:only-of-type {\n",
       "        vertical-align: middle;\n",
       "    }\n",
       "\n",
       "    .dataframe tbody tr th {\n",
       "        vertical-align: top;\n",
       "    }\n",
       "\n",
       "    .dataframe thead th {\n",
       "        text-align: right;\n",
       "    }\n",
       "</style>\n",
       "<table border=\"1\" class=\"dataframe\">\n",
       "  <thead>\n",
       "    <tr style=\"text-align: right;\">\n",
       "      <th></th>\n",
       "      <th>energy</th>\n",
       "      <th>cTheta</th>\n",
       "      <th>phi</th>\n",
       "      <th>prob_b</th>\n",
       "      <th>spheri</th>\n",
       "      <th>pt2rel</th>\n",
       "      <th>multip</th>\n",
       "      <th>bqvjet</th>\n",
       "      <th>ptlrel</th>\n",
       "      <th>isb</th>\n",
       "    </tr>\n",
       "  </thead>\n",
       "  <tbody>\n",
       "    <tr>\n",
       "      <th>0</th>\n",
       "      <td>46.8299</td>\n",
       "      <td>0.3871</td>\n",
       "      <td>0.8528</td>\n",
       "      <td>0.0327</td>\n",
       "      <td>0.2105</td>\n",
       "      <td>0.0302</td>\n",
       "      <td>0.4776</td>\n",
       "      <td>0.0314</td>\n",
       "      <td>-0.0003</td>\n",
       "      <td>0.0</td>\n",
       "    </tr>\n",
       "    <tr>\n",
       "      <th>1</th>\n",
       "      <td>45.6397</td>\n",
       "      <td>-0.3943</td>\n",
       "      <td>-2.2817</td>\n",
       "      <td>0.0035</td>\n",
       "      <td>0.3457</td>\n",
       "      <td>0.0314</td>\n",
       "      <td>0.3497</td>\n",
       "      <td>0.0106</td>\n",
       "      <td>-0.0003</td>\n",
       "      <td>0.0</td>\n",
       "    </tr>\n",
       "    <tr>\n",
       "      <th>2</th>\n",
       "      <td>48.8960</td>\n",
       "      <td>-0.4613</td>\n",
       "      <td>-0.6139</td>\n",
       "      <td>0.0649</td>\n",
       "      <td>0.0872</td>\n",
       "      <td>0.0254</td>\n",
       "      <td>0.1288</td>\n",
       "      <td>0.1074</td>\n",
       "      <td>-0.0003</td>\n",
       "      <td>0.0</td>\n",
       "    </tr>\n",
       "    <tr>\n",
       "      <th>3</th>\n",
       "      <td>39.1577</td>\n",
       "      <td>0.4668</td>\n",
       "      <td>2.4818</td>\n",
       "      <td>0.0027</td>\n",
       "      <td>0.1570</td>\n",
       "      <td>0.0147</td>\n",
       "      <td>0.2732</td>\n",
       "      <td>0.2117</td>\n",
       "      <td>0.0240</td>\n",
       "      <td>0.0</td>\n",
       "    </tr>\n",
       "    <tr>\n",
       "      <th>4</th>\n",
       "      <td>43.7354</td>\n",
       "      <td>-0.7642</td>\n",
       "      <td>1.7872</td>\n",
       "      <td>0.4320</td>\n",
       "      <td>0.4873</td>\n",
       "      <td>0.0505</td>\n",
       "      <td>0.3536</td>\n",
       "      <td>0.4578</td>\n",
       "      <td>-0.0003</td>\n",
       "      <td>1.0</td>\n",
       "    </tr>\n",
       "  </tbody>\n",
       "</table>\n",
       "</div>"
      ],
      "text/plain": [
       "    energy  cTheta     phi  prob_b  spheri  pt2rel  multip  bqvjet  ptlrel  \\\n",
       "0  46.8299  0.3871  0.8528  0.0327  0.2105  0.0302  0.4776  0.0314 -0.0003   \n",
       "1  45.6397 -0.3943 -2.2817  0.0035  0.3457  0.0314  0.3497  0.0106 -0.0003   \n",
       "2  48.8960 -0.4613 -0.6139  0.0649  0.0872  0.0254  0.1288  0.1074 -0.0003   \n",
       "3  39.1577  0.4668  2.4818  0.0027  0.1570  0.0147  0.2732  0.2117  0.0240   \n",
       "4  43.7354 -0.7642  1.7872  0.4320  0.4873  0.0505  0.3536  0.4578 -0.0003   \n",
       "\n",
       "   isb  \n",
       "0  0.0  \n",
       "1  0.0  \n",
       "2  0.0  \n",
       "3  0.0  \n",
       "4  1.0  "
      ]
     },
     "execution_count": 15,
     "metadata": {},
     "output_type": "execute_result"
    }
   ],
   "source": [
    "dataset_path = 'Aleph_dataset.csv'\n",
    "data = pd.read_csv(dataset_path, index_col = 0)\n",
    "\n",
    "data.head()"
   ]
  },
  {
   "cell_type": "markdown",
   "metadata": {},
   "source": [
    "## Classification task\n",
    "\n",
    "Train a tree classifier to classify the results from electron-positron collisions into b-quarks and non b-quarks —don’t panic if you don’t know what this means, just think of two categories 0 and 1. In other words, train a decision tree that acts as function mapping a set of input features X to an output Y which represents a binary category."
   ]
  },
  {
   "cell_type": "markdown",
   "metadata": {},
   "source": [
    "The column *isb* is the category we want to predict: 0 if it's not a b-quark and 1 if it is a b-quark. Therefore we need to split the loaded data into the rest of feature variables and that column."
   ]
  },
  {
   "cell_type": "code",
   "execution_count": 10,
   "metadata": {},
   "outputs": [
    {
     "name": "stdout",
     "output_type": "stream",
     "text": [
      "Index(['energy', 'cTheta', 'phi', 'prob_b', 'spheri', 'pt2rel', 'multip',\n",
      "       'bqvjet', 'ptlrel'],\n",
      "      dtype='object')\n"
     ]
    }
   ],
   "source": [
    "feature_columns = data.columns\n",
    "input_variables = data.columns[feature_columns != 'isb']\n",
    "input_data      = data[input_variables]\n",
    "truth           = data['isb']\n",
    "print(input_variables)"
   ]
  },
  {
   "cell_type": "markdown",
   "metadata": {},
   "source": [
    "Let's check the data that we are going to feed the tree model to predict the categories:"
   ]
  },
  {
   "cell_type": "code",
   "execution_count": 12,
   "metadata": {},
   "outputs": [
    {
     "data": {
      "text/html": [
       "<div>\n",
       "<style scoped>\n",
       "    .dataframe tbody tr th:only-of-type {\n",
       "        vertical-align: middle;\n",
       "    }\n",
       "\n",
       "    .dataframe tbody tr th {\n",
       "        vertical-align: top;\n",
       "    }\n",
       "\n",
       "    .dataframe thead th {\n",
       "        text-align: right;\n",
       "    }\n",
       "</style>\n",
       "<table border=\"1\" class=\"dataframe\">\n",
       "  <thead>\n",
       "    <tr style=\"text-align: right;\">\n",
       "      <th></th>\n",
       "      <th>energy</th>\n",
       "      <th>cTheta</th>\n",
       "      <th>phi</th>\n",
       "      <th>prob_b</th>\n",
       "      <th>spheri</th>\n",
       "      <th>pt2rel</th>\n",
       "      <th>multip</th>\n",
       "      <th>bqvjet</th>\n",
       "      <th>ptlrel</th>\n",
       "    </tr>\n",
       "  </thead>\n",
       "  <tbody>\n",
       "    <tr>\n",
       "      <th>0</th>\n",
       "      <td>46.8299</td>\n",
       "      <td>0.3871</td>\n",
       "      <td>0.8528</td>\n",
       "      <td>0.0327</td>\n",
       "      <td>0.2105</td>\n",
       "      <td>0.0302</td>\n",
       "      <td>0.4776</td>\n",
       "      <td>0.0314</td>\n",
       "      <td>-0.0003</td>\n",
       "    </tr>\n",
       "    <tr>\n",
       "      <th>1</th>\n",
       "      <td>45.6397</td>\n",
       "      <td>-0.3943</td>\n",
       "      <td>-2.2817</td>\n",
       "      <td>0.0035</td>\n",
       "      <td>0.3457</td>\n",
       "      <td>0.0314</td>\n",
       "      <td>0.3497</td>\n",
       "      <td>0.0106</td>\n",
       "      <td>-0.0003</td>\n",
       "    </tr>\n",
       "    <tr>\n",
       "      <th>2</th>\n",
       "      <td>48.8960</td>\n",
       "      <td>-0.4613</td>\n",
       "      <td>-0.6139</td>\n",
       "      <td>0.0649</td>\n",
       "      <td>0.0872</td>\n",
       "      <td>0.0254</td>\n",
       "      <td>0.1288</td>\n",
       "      <td>0.1074</td>\n",
       "      <td>-0.0003</td>\n",
       "    </tr>\n",
       "    <tr>\n",
       "      <th>3</th>\n",
       "      <td>39.1577</td>\n",
       "      <td>0.4668</td>\n",
       "      <td>2.4818</td>\n",
       "      <td>0.0027</td>\n",
       "      <td>0.1570</td>\n",
       "      <td>0.0147</td>\n",
       "      <td>0.2732</td>\n",
       "      <td>0.2117</td>\n",
       "      <td>0.0240</td>\n",
       "    </tr>\n",
       "    <tr>\n",
       "      <th>4</th>\n",
       "      <td>43.7354</td>\n",
       "      <td>-0.7642</td>\n",
       "      <td>1.7872</td>\n",
       "      <td>0.4320</td>\n",
       "      <td>0.4873</td>\n",
       "      <td>0.0505</td>\n",
       "      <td>0.3536</td>\n",
       "      <td>0.4578</td>\n",
       "      <td>-0.0003</td>\n",
       "    </tr>\n",
       "  </tbody>\n",
       "</table>\n",
       "</div>"
      ],
      "text/plain": [
       "    energy  cTheta     phi  prob_b  spheri  pt2rel  multip  bqvjet  ptlrel\n",
       "0  46.8299  0.3871  0.8528  0.0327  0.2105  0.0302  0.4776  0.0314 -0.0003\n",
       "1  45.6397 -0.3943 -2.2817  0.0035  0.3457  0.0314  0.3497  0.0106 -0.0003\n",
       "2  48.8960 -0.4613 -0.6139  0.0649  0.0872  0.0254  0.1288  0.1074 -0.0003\n",
       "3  39.1577  0.4668  2.4818  0.0027  0.1570  0.0147  0.2732  0.2117  0.0240\n",
       "4  43.7354 -0.7642  1.7872  0.4320  0.4873  0.0505  0.3536  0.4578 -0.0003"
      ]
     },
     "execution_count": 12,
     "metadata": {},
     "output_type": "execute_result"
    }
   ],
   "source": [
    "input_data.head()"
   ]
  },
  {
   "cell_type": "markdown",
   "metadata": {},
   "source": [
    "Let us now divide the truth and input_data into two parts; a training sample and a validation sample:"
   ]
  },
  {
   "cell_type": "code",
   "execution_count": 13,
   "metadata": {},
   "outputs": [],
   "source": [
    "input_train, input_validation, truth_train, truth_validation = train_test_split(input_data, truth, test_size=0.2)"
   ]
  },
  {
   "cell_type": "markdown",
   "metadata": {},
   "source": [
    "### Hand-in tasks:\n",
    "\n",
    "1. Define a model `DecisionTreeClassifier`\n",
    "2. Fit it the data\n",
    "3. For the trained model, print the model prediction score on the validation split \n",
    "4. Display importance of each input feature to the predictions using `feature_importances_`  attribute\n",
    "5. Plot the decission surface over the top two features\n",
    "6. Generate the confusion matrix, ROC curve and AUC value of the trained model using `sklearn.metrics.confusion_matrix`, `sklearn.metrics.roc_curve` and `sklearn.metrics.auc`\n",
    "7. Try to improve the performance of the model by choosing differnt model parameters.\n",
    "8. *Bonus* : Explore how the model parameters `max_depth`  and `min_samples_leaf` affects the overfitting of the model.\n",
    "9. *Bonus* : Display the decision `tree.plot_tree(model, max_depth=2)` up to sensible depth and inspect it"
   ]
  },
  {
   "cell_type": "code",
   "execution_count": null,
   "metadata": {},
   "outputs": [],
   "source": [
    "## Your code here"
   ]
  },
  {
   "cell_type": "markdown",
   "metadata": {},
   "source": [
    "## Regression task\n",
    "\n",
    "The goal of the regression task is to predict the energy of each particles collision based on the variables."
   ]
  },
  {
   "cell_type": "markdown",
   "metadata": {},
   "source": [
    "### Hand-in tasks:\n",
    "\n",
    "1. Define a regression tree model using `DecisionTreeRegressor` and fit it to predict the energy of the collions\n",
    "3. For the trained model, visualise the model predictions vs the real values and print the obtained loss\n",
    "4. Report importance of each feature using `feature_importances_`  attribute  \n",
    "5. Evaluate your model on a loop for different max_depths and figure out what's the optimal depth to obtained the best accuracy on the validation data.\n",
    "6. Do a sanity-check of your model by train a regression with very high depth and evaluate it on the training dataset split: you should obtained a score of 1.0 and see a perfectly diagonal line when ploting real values vs predictions.\n",
    "7. *Bonus*: Try to improve the performance of the model on the validation split by choosing different model parameters (if you're familiar with it, feel free to use k-fold Cross-Validation)\n",
    "8. *Bonus*: Predict two any features —e.g. energy and another one— based on the rest. [Here you can find an example of Multi-output ree regression](https://scikit-learn.org/stable/auto_examples/tree/plot_tree_regression_multioutput.html#sphx-glr-auto-examples-tree-plot-tree-regression-multioutput-py)."
   ]
  },
  {
   "cell_type": "code",
   "execution_count": 16,
   "metadata": {},
   "outputs": [],
   "source": [
    "## Your code here"
   ]
  }
 ],
 "metadata": {
  "kernelspec": {
   "display_name": "Python 3.9.13 ('p39')",
   "language": "python",
   "name": "python3"
  },
  "language_info": {
   "codemirror_mode": {
    "name": "ipython",
    "version": 3
   },
   "file_extension": ".py",
   "mimetype": "text/x-python",
   "name": "python",
   "nbconvert_exporter": "python",
   "pygments_lexer": "ipython3",
   "version": "3.9.13"
  },
  "vscode": {
   "interpreter": {
    "hash": "62d00359d1e751dd3472fbb575f10dfe4a2217e28c8573ed8a15de19674dd853"
   }
  }
 },
 "nbformat": 4,
 "nbformat_minor": 4
}
