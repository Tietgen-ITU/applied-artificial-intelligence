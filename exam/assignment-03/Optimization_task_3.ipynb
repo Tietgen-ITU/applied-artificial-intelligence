{
 "cells": [
  {
   "cell_type": "markdown",
   "metadata": {
    "id": "uUXu44-JgeNK"
   },
   "source": [
    "## Portfolio Optimization Problem\n",
    "\n",
    "\n",
    "#### Problem Description\n",
    "\n",
    "This is a simplified example of a portfolio optimization problem. If you are interested in how portfolio optimization works in detail check out these resources:\n",
    "\n",
    "https://towardsdatascience.com/a-beginners-guide-to-data-science-in-the-portfolio-management-process-56d559a3d39\n",
    "\n",
    "https://towardsdatascience.com/the-science-of-portfolio-optimization-186607d30416\n",
    "\n",
    "For this assignment we will imagine that we have collected all the necessary information to optimize asset allocation.\n",
    "\n",
    "**Description**\n",
    "\n",
    "Imagine you are an investor with a budget. You want to invest this budget in a portfolio consisting of $N$ different assets (stocks or any other asset that is expected to gain in value over time). Each asset has an expected return and a risk associated with it. Your objective is to maximize the expected return while keeping the portfolio risk below a certain threshold. Additionally, you want to ensure that no single asset takes up more than 40% of the total investment.\n",
    "\n",
    "What makes this problem challenging is that asset risks are correlated, i.e. investing in two assets might mean that their returns follow each other. For example: stocks of two cryptocurrency companies will crash together if the whole market crashes.\n",
    "\n",
    "**Task:**\n",
    "\n",
    "Imagine we have 5 assets to invest in.\n",
    "Asset 1:\n",
    " - Expected Return: 12%\n",
    " - Risk (Standard Deviation): 15%\n",
    "\n",
    "Asset 2:\n",
    " - Expected Return: 8%\n",
    " - Risk (Standard Deviation): 10%\n",
    "\n",
    "Asset 3:\n",
    " - Expected Return: 10%\n",
    " - Risk (Standard Deviation): 12%\n",
    "\n",
    "Asset 4:\n",
    " - Expected Return: 6%\n",
    " - Risk (Standard Deviation): 8%\n",
    "\n",
    "Asset 5:\n",
    " - Expected Return: 14%\n",
    " - Risk (Standard Deviation): 20%\n",
    "\n",
    "\n",
    " We also have a risk covariance matrix:\n",
    "\n",
    " ```python\n",
    "covariance_matrix = np.array([\n",
    "    [0.0225, 0.003, 0.0025, 0.0015, 0.004],\n",
    "    [0.003, 0.01, 0.002, 0.001, 0.003],\n",
    "    [0.0025, 0.002, 0.0144, 0.0012, 0.0028],\n",
    "    [0.0015, 0.001, 0.0012, 0.0064, 0.0015],\n",
    "    [0.004, 0.003, 0.0028, 0.0015, 0.04]\n",
    "])\n",
    " ```\n",
    "\n",
    "**Objective:**\n",
    "The objective is to find a vector of allocation values $w$ (how much of the budget should go to each asset) to maximize the expected return of the entire investment portfolio, while respecting risk constraints.\n",
    "\n",
    "Parameters\n",
    "\n",
    "$w$: Vector of weights representing the proportion of the total budget allocated to each asset.\n",
    "\n",
    "$r$: Vector of expected returns for each asset.\n",
    "\n",
    "$Σ$: Covariance matrix of the asset returns.\n",
    "\n",
    "$λ$: Risk-aversion parameter, where higher values indicate greater aversion to risk.\n",
    "\n",
    "The expected return of the portfolio is:\n",
    "$E(R_p)=\\mathbf{w}^T\\mathbf{r}$\n",
    "\n",
    "The variance (risk) of the portfolio is:\n",
    "$σ_p^2=\\mathbf{w}^TΣ\\mathbf{w}$\n",
    "\n",
    "The fitness function $F(w)$ that combines return and risk can be defined as:\n",
    "$F(w)=E(R_p)-λ⋅σ_p^2$\n",
    "\n",
    "or, equivalently:\n",
    "$F(w)=\\mathbf{w}^T\\mathbf{r}-λ⋅\\mathbf{w}^TΣ\\mathbf{w}$\n",
    "\n",
    "\n",
    "**Constraints:**\n",
    "\n",
    "The weights must sum to 1 (i.e., the total budget must be fully allocated):\n",
    "$\\sum_{i=1}^{n}w_i=1$\n",
    "\n",
    "No single asset should account for more than 40% of the total budget:\n",
    "$w_i≤0.4$ for all $i$\n",
    "\n",
    "The portfolio risk (standard deviation) should be below a certain threshold (if applicable):\n",
    "$\\mathbf{w}^TΣ\\mathbf{w}≤threshold$"
   ]
  },
  {
   "cell_type": "markdown",
   "metadata": {
    "id": "BqvGJySDsabS"
   },
   "source": [
    "## Fitness function evaluating porfolio return with constraints"
   ]
  },
  {
   "cell_type": "code",
   "execution_count": 12,
   "metadata": {
    "colab": {
     "base_uri": "https://localhost:8080/"
    },
    "executionInfo": {
     "elapsed": 6,
     "status": "ok",
     "timestamp": 1722585026669,
     "user": {
      "displayName": "Đorđe Grbić",
      "userId": "17224412897437983949"
     },
     "user_tz": -120
    },
    "id": "hDih4vkzsluo",
    "outputId": "8ec0cec7-4ee0-4c91-9c53-0af3f688a0d1"
   },
   "outputs": [
    {
     "name": "stdout",
     "output_type": "stream",
     "text": [
      "Fitness Value: 0.09446800000000002\n"
     ]
    }
   ],
   "source": [
    "import numpy as np\n",
    "\n",
    "# Define the parameters\n",
    "expected_returns = np.array([0.12, 0.08, 0.10, 0.06, 0.14])\n",
    "covariance_matrix = np.array([\n",
    "    [0.0225, 0.003, 0.0025, 0.0015, 0.004],\n",
    "    [0.003, 0.01, 0.002, 0.001, 0.003],\n",
    "    [0.0025, 0.002, 0.0144, 0.0012, 0.0028],\n",
    "    [0.0015, 0.001, 0.0012, 0.0064, 0.0015],\n",
    "    [0.004, 0.003, 0.0028, 0.0015, 0.04]\n",
    "])\n",
    "risk_aversion = 1.0  # Example risk-aversion parameter\n",
    "max_risk_threshold = 0.12  # Example risk threshold\n",
    "\n",
    "\n",
    "# Define the fitness function\n",
    "def fitness(weights):\n",
    "    # Normalize weights to sum to 1\n",
    "    weights = weights / np.sum(weights)\n",
    "\n",
    "    # Calculate expected return\n",
    "    portfolio_return = np.dot(weights, expected_returns)\n",
    "\n",
    "    # Calculate portfolio risk (variance)\n",
    "    portfolio_variance = np.dot(weights.T, np.dot(covariance_matrix, weights))\n",
    "\n",
    "    # Calculate fitness\n",
    "    fitness_value = portfolio_return - risk_aversion * portfolio_variance\n",
    "\n",
    "    if portfolio_variance > max_risk_threshold or np.any(weights > 0.4):\n",
    "        fitness_value = -np.inf\n",
    "\n",
    "    return fitness_value\n",
    "\n",
    "# Example weights (randomly chosen, should be optimized)\n",
    "weights = np.array([0.2, 0.2, 0.2, 0.2, 0.2])\n",
    "\n",
    "# Calculate the fitness value\n",
    "fitness_value = fitness(weights)\n",
    "print(\"Fitness Value:\", fitness_value)\n"
   ]
  },
  {
   "cell_type": "markdown",
   "metadata": {
    "id": "lshqzbXeuHbZ"
   },
   "source": [
    "The solution should look like:\n",
    "\n",
    "```\n",
    "Total return: some_value\n",
    "Allocation: [permutation of job indices]\n",
    "```"
   ]
  },
  {
   "cell_type": "markdown",
   "metadata": {
    "id": "MPY2uxtnlLZn"
   },
   "source": [
    "## Implement the algorithm\n",
    "make sure to comment on the code. This problem can be approximated with a genetic algorithm, ant colony optimization, simmulated annealing, etc."
   ]
  },
  {
   "cell_type": "code",
   "execution_count": 13,
   "metadata": {
    "id": "ePFIQbH7lQMd"
   },
   "outputs": [],
   "source": [
    "import time \n",
    "\n",
    "np.random.seed(42)  # For reproducibility\n",
    "investment_target_sum = 1.0\n",
    "single_investment_limit = 0.4  # Maximum weight for a single investment\n"
   ]
  },
  {
   "cell_type": "code",
   "execution_count": 14,
   "metadata": {},
   "outputs": [
    {
     "name": "stdout",
     "output_type": "stream",
     "text": [
      "Iteration 1: Weights = [0.18346219 0.18346219 0.18346219 0.26615123 0.18346219], Sum = 1.0, Fitness = 0.09164177407988733\n",
      "Iteration 2: Weights = [0.17374331 0.17374331 0.22671819 0.2520519  0.17374331], Sum = 1.0, Fitness = 0.09186602256628577\n",
      "Iteration 3: Weights = [0.18657926 0.18657926 0.24346787 0.27067321 0.1127004 ], Sum = 1.0, Fitness = 0.08915124106526431\n",
      "Iteration 4: Weights = [0.20280465 0.20280465 0.17767798 0.29421161 0.1225011 ], Sum = 1.0, Fitness = 0.08861330951310002\n",
      "Iteration 5: Weights = [0.21840456 0.21840456 0.19134512 0.23992178 0.13192399], Sum = 1.0, Fitness = 0.09086384426661018\n",
      "Iteration 6: Weights = [0.24156672 0.24156672 0.10558592 0.26536588 0.14591475], Sum = 1.0, Fitness = 0.09019921310143682\n",
      "Iteration 7: Weights = [0.23129718 0.27380941 0.10109723 0.25408459 0.13971159], Sum = 1.0, Fitness = 0.08962191089159076\n",
      "Iteration 8: Weights = [0.24701605 0.22445777 0.10796776 0.27135208 0.14920633], Sum = 1.0, Fitness = 0.09049539915208099\n",
      "Iteration 9: Weights = [0.24134533 0.21930492 0.10548916 0.26512268 0.16873792], Sum = 1.0, Fitness = 0.09135042177223422\n",
      "Iteration 10: Weights = [0.26679416 0.24242968 0.11661254 0.18763301 0.18653061], Sum = 1.0, Fitness = 0.09459442526151932\n"
     ]
    }
   ],
   "source": [
    "def create_neighbor_solution(weights):\n",
    "    # Create a copy of the weights to modify\n",
    "\n",
    "    has_found_valid_solution = False\n",
    "\n",
    "    while not has_found_valid_solution:\n",
    "        new_weights = weights.copy()\n",
    "\n",
    "        # Randomly select an index to perturb\n",
    "\n",
    "        index = np.random.randint(0, len(new_weights))\n",
    "        perturbation = np.random.uniform(-0.1, 0.1)\n",
    "        new_weights[index] += perturbation\n",
    "\n",
    "        # Clip the weights to ensure they are valid\n",
    "        new_weights = np.clip(new_weights, 0, 1)\n",
    "        new_weights /= np.sum(new_weights)  # Normalize weights to make sure they sum to 1\n",
    "\n",
    "        # Validate the new weights pass the constraints\n",
    "        if np.sum(new_weights) == investment_target_sum and np.all(new_weights <= single_investment_limit):\n",
    "            has_found_valid_solution = True\n",
    "\n",
    "    return new_weights\n",
    "\n",
    "\n",
    "example_weights = np.array([0.2, 0.2, 0.2, 0.2, 0.2])  # Initial weights\n",
    "for i in range(10):  # Example of generating 100 neighbor solutions\n",
    "    example_weights = create_neighbor_solution(example_weights)\n",
    "\n",
    "    print(f\"Iteration {i + 1}: Weights = {example_weights}, Sum = {np.sum(example_weights)}, Fitness = {fitness(example_weights)}\")"
   ]
  },
  {
   "cell_type": "code",
   "execution_count": 15,
   "metadata": {},
   "outputs": [],
   "source": [
    "def simulated_annealing(fitness_function, initial_weights, max_iterations=100, temperature=100, cooling_rate=0.99):\n",
    "\n",
    "    valid_solutions = {}\n",
    "    best_solutions = {}\n",
    "    current_iteration = 0\n",
    "\n",
    "    current_weights = initial_weights.copy()\n",
    "    best_weights = current_weights.copy()\n",
    "    current_fitness = fitness_function(current_weights)\n",
    "    best_fitness = current_fitness\n",
    "\n",
    "    valid_solutions[current_iteration] = current_fitness\n",
    "    best_solutions[current_iteration] = best_fitness\n",
    "\n",
    "    while temperature > 1e-8:\n",
    "        for iteration in range(max_iterations):\n",
    "            # Generate a new candidate solution by slightly perturbing the current solution\n",
    "            current_iteration += 1\n",
    "\n",
    "            weights = create_neighbor_solution(current_weights)\n",
    "            new_fitness = fitness_function(weights)\n",
    "\n",
    "\n",
    "            # Accept the new solution with a probability based on the temperature\n",
    "            diff = new_fitness - current_fitness\n",
    "            if new_fitness >= current_fitness:\n",
    "                current_weights = weights\n",
    "                current_fitness = new_fitness\n",
    "\n",
    "                valid_solutions[current_iteration] = new_fitness\n",
    "\n",
    "                if new_fitness > best_fitness:\n",
    "                    best_weights = weights\n",
    "                    best_fitness = new_fitness\n",
    "\n",
    "                    best_solutions[current_iteration] = new_fitness\n",
    "\n",
    "            elif np.random.rand() < np.exp(diff / temperature):\n",
    "                current_weights = weights\n",
    "                current_fitness = new_fitness\n",
    "\n",
    "                valid_solutions[current_iteration] = new_fitness\n",
    "\n",
    "        # Cool down the temperature\n",
    "        temperature *= cooling_rate\n",
    "\n",
    "    return best_weights, valid_solutions, best_solutions"
   ]
  },
  {
   "cell_type": "markdown",
   "metadata": {
    "id": "Hhw-7jE9lQzw"
   },
   "source": [
    "## Initialise the starting solution"
   ]
  },
  {
   "cell_type": "code",
   "execution_count": 16,
   "metadata": {
    "id": "YwCtHgQFlrLP"
   },
   "outputs": [
    {
     "name": "stdout",
     "output_type": "stream",
     "text": [
      "Starting weights: [0.2 0.2 0.2 0.2 0.2]\n",
      "CPU Count: 8\n",
      "Initial Weights: [array([0.19562378, 0.19562378, 0.21750487, 0.19562378, 0.19562378]), array([0.20549232, 0.20549232, 0.20549232, 0.17803071, 0.20549232]), array([0.2048147 , 0.2048147 , 0.18074119, 0.2048147 , 0.2048147 ]), array([0.1963705, 0.1963705, 0.1963705, 0.214518 , 0.1963705]), array([0.18656924, 0.18656924, 0.25372305, 0.18656924, 0.18656924]), array([0.20199983, 0.20199983, 0.20199983, 0.20199983, 0.19200069]), array([0.18352377, 0.26590493, 0.18352377, 0.18352377, 0.18352377]), array([0.19750011, 0.19750011, 0.19750011, 0.20999954, 0.19750011])]\n"
     ]
    }
   ],
   "source": [
    "import os\n",
    "\n",
    "base = np.array([0.2, 0.2, 0.2, 0.2, 0.2])\n",
    "print(\"Starting weights:\", base)\n",
    "\n",
    "print(\"CPU Count:\", os.cpu_count())\n",
    "init_weights = []\n",
    "for i in range(os.cpu_count()):\n",
    "    init_weights.append(create_neighbor_solution(base))\n",
    "\n",
    "print(\"Initial Weights:\", init_weights)\n"
   ]
  },
  {
   "cell_type": "markdown",
   "metadata": {
    "id": "JIEhIiD5lY7z"
   },
   "source": [
    "## Run the optimization and plot the best solution in iteration"
   ]
  },
  {
   "cell_type": "code",
   "execution_count": 17,
   "metadata": {
    "id": "2gwVc8xIlYta"
   },
   "outputs": [
    {
     "name": "stdout",
     "output_type": "stream",
     "text": [
      "Result from thread 0: [0.3999451  0.         0.20006032 0.         0.39999458], Fitness: 0.11129549749548927\n",
      "Result from thread 1: [0.39997684 0.         0.20003893 0.         0.39998423], Fitness: 0.11129560355481173\n",
      "Result from thread 2: [0.39999394 0.         0.20004864 0.         0.39995743], Fitness: 0.11129537020678223\n",
      "Result from thread 3: [0.39999674 0.         0.20000842 0.         0.39999484], Fitness: 0.11129590401427099\n",
      "Result from thread 4: [0.39991981 0.         0.20008249 0.         0.39999771], Fitness: 0.11129534290135397\n",
      "Result from thread 5: [0.3999565  0.         0.2000463  0.         0.39999719], Fitness: 0.11129562226520859\n",
      "Result from thread 6: [0.39991308 0.         0.2000961  0.         0.39999082], Fitness: 0.11129519623313738\n",
      "Result from thread 7: [0.39993898 0.         0.200064   0.         0.39999701], Fitness: 0.11129548309342091\n"
     ]
    }
   ],
   "source": [
    "import concurrent.futures\n",
    "import seaborn as sns\n",
    "import matplotlib.pyplot as plt\n",
    "import pandas as pd\n",
    "\n",
    "iterations = 100  # Number of iterations for each thread\n",
    "best_result = None\n",
    "with concurrent.futures.ThreadPoolExecutor(max_workers=os.cpu_count()/2) as executor:\n",
    "    futures = {executor.submit(simulated_annealing, fitness, init_weights[i], iterations): i for i in range(len(init_weights))}\n",
    "    for future in concurrent.futures.as_completed(futures):\n",
    "        sol, accepted, best = future.result()\n",
    "        fitness_value = fitness(sol)\n",
    "        if best_result is None or fitness(sol) > best_result[3]:\n",
    "            best_result = (sol, accepted, best, fitness_value)\n",
    "        print(f\"Result from thread {futures[future]}: {sol}, Fitness: {fitness(sol)}\")\n"
   ]
  },
  {
   "cell_type": "code",
   "execution_count": 18,
   "metadata": {},
   "outputs": [
    {
     "name": "stdout",
     "output_type": "stream",
     "text": [
      "Best solutions shape: (52, 2)\n",
      "Accepted solutions shape: (169244, 2)\n"
     ]
    }
   ],
   "source": [
    "# Fix DataFrame creation - the keys are already iterations (index), values are fitness\n",
    "best_solutions = pd.DataFrame.from_dict(best_result[2], orient='index', columns=['Fitness'])\n",
    "best_solutions.index.name = 'Iteration'\n",
    "best_solutions.reset_index(inplace=True)  # Make iteration a column if needed\n",
    "\n",
    "accepted_solutions = pd.DataFrame.from_dict(best_result[1], orient='index', columns=['Fitness'])\n",
    "accepted_solutions.index.name = 'Iteration'\n",
    "accepted_solutions.reset_index(inplace=True)  # Make iteration a column if needed\n",
    "\n",
    "print(\"Best solutions shape:\", best_solutions.shape)\n",
    "print(\"Accepted solutions shape:\", accepted_solutions.shape)\n"
   ]
  },
  {
   "cell_type": "code",
   "execution_count": 19,
   "metadata": {},
   "outputs": [
    {
     "data": {
      "image/png": "[encoded data removed]",
      "text/plain": [
       "<Figure size 640x480 with 1 Axes>"
      ]
     },
     "metadata": {},
     "output_type": "display_data"
    }
   ],
   "source": [
    "sns.lineplot(data=accepted_solutions, x='Iteration', y='Fitness', label='Accepted Solutions', color='#234375')\n",
    "sns.lineplot(data=best_solutions, x='Iteration', y='Fitness', label='Best Solutions', marker='o', color='red')\n",
    "plt.xlabel('Iteration')\n",
    "plt.ylabel('Fitness')\n",
    "plt.title('Fitness Over Iterations')\n",
    "plt.legend()\n",
    "plt.show()"
   ]
  },
  {
   "cell_type": "markdown",
   "metadata": {
    "id": "Y5D50cN0lEtO"
   },
   "source": [
    "## Print the solution and the best fitness"
   ]
  },
  {
   "cell_type": "code",
   "execution_count": 20,
   "metadata": {
    "id": "F85QR0WfkyFC"
   },
   "outputs": [
    {
     "name": "stdout",
     "output_type": "stream",
     "text": [
      "Total return: 0.11129590401427099\n",
      "Best Weights: [0.39999674 0.         0.20000842 0.         0.39999484]\n"
     ]
    }
   ],
   "source": [
    "\n",
    "print(\"Total return:\", best_result[3])\n",
    "print(\"Best Weights:\", best_result[0])"
   ]
  }
 ],
 "metadata": {
  "colab": {
   "authorship_tag": "ABX9TyMp90euiWnPLFS0LA3aywOB",
   "provenance": []
  },
  "kernelspec": {
   "display_name": "base",
   "language": "python",
   "name": "python3"
  },
  "language_info": {
   "codemirror_mode": {
    "name": "ipython",
    "version": 3
   },
   "file_extension": ".py",
   "mimetype": "text/x-python",
   "name": "python",
   "nbconvert_exporter": "python",
   "pygments_lexer": "ipython3",
   "version": "3.13.5"
  }
 },
 "nbformat": 4,
 "nbformat_minor": 0
}
