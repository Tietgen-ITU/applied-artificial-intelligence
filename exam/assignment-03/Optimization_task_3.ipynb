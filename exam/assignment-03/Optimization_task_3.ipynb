{
 "cells": [
  {
   "cell_type": "markdown",
   "metadata": {
    "id": "uUXu44-JgeNK"
   },
   "source": [
    "## Portfolio Optimization Problem\n",
    "\n",
    "\n",
    "#### Problem Description\n",
    "\n",
    "This is a simplified example of a portfolio optimization problem. If you are interested in how portfolio optimization works in detail check out these resources:\n",
    "\n",
    "https://towardsdatascience.com/a-beginners-guide-to-data-science-in-the-portfolio-management-process-56d559a3d39\n",
    "\n",
    "https://towardsdatascience.com/the-science-of-portfolio-optimization-186607d30416\n",
    "\n",
    "For this assignment we will imagine that we have collected all the necessary information to optimize asset allocation.\n",
    "\n",
    "**Description**\n",
    "\n",
    "Imagine you are an investor with a budget. You want to invest this budget in a portfolio consisting of $N$ different assets (stocks or any other asset that is expected to gain in value over time). Each asset has an expected return and a risk associated with it. Your objective is to maximize the expected return while keeping the portfolio risk below a certain threshold. Additionally, you want to ensure that no single asset takes up more than 40% of the total investment.\n",
    "\n",
    "What makes this problem challenging is that asset risks are correlated, i.e. investing in two assets might mean that their returns follow each other. For example: stocks of two cryptocurrency companies will crash together if the whole market crashes.\n",
    "\n",
    "**Task:**\n",
    "\n",
    "Imagine we have 5 assets to invest in.\n",
    "Asset 1:\n",
    " - Expected Return: 12%\n",
    " - Risk (Standard Deviation): 15%\n",
    "\n",
    "Asset 2:\n",
    " - Expected Return: 8%\n",
    " - Risk (Standard Deviation): 10%\n",
    "\n",
    "Asset 3:\n",
    " - Expected Return: 10%\n",
    " - Risk (Standard Deviation): 12%\n",
    "\n",
    "Asset 4:\n",
    " - Expected Return: 6%\n",
    " - Risk (Standard Deviation): 8%\n",
    "\n",
    "Asset 5:\n",
    " - Expected Return: 14%\n",
    " - Risk (Standard Deviation): 20%\n",
    "\n",
    "\n",
    " We also have a risk covariance matrix:\n",
    "\n",
    " ```python\n",
    "covariance_matrix = np.array([\n",
    "    [0.0225, 0.003, 0.0025, 0.0015, 0.004],\n",
    "    [0.003, 0.01, 0.002, 0.001, 0.003],\n",
    "    [0.0025, 0.002, 0.0144, 0.0012, 0.0028],\n",
    "    [0.0015, 0.001, 0.0012, 0.0064, 0.0015],\n",
    "    [0.004, 0.003, 0.0028, 0.0015, 0.04]\n",
    "])\n",
    " ```\n",
    "\n",
    "**Objective:**\n",
    "The objective is to find a vector of allocation values $w$ (how much of the budget should go to each asset) to maximize the expected return of the entire investment portfolio, while respecting risk constraints.\n",
    "\n",
    "Parameters\n",
    "\n",
    "$w$: Vector of weights representing the proportion of the total budget allocated to each asset.\n",
    "\n",
    "$r$: Vector of expected returns for each asset.\n",
    "\n",
    "$Σ$: Covariance matrix of the asset returns.\n",
    "\n",
    "$λ$: Risk-aversion parameter, where higher values indicate greater aversion to risk.\n",
    "\n",
    "The expected return of the portfolio is:\n",
    "$E(R_p)=\\mathbf{w}^T\\mathbf{r}$\n",
    "\n",
    "The variance (risk) of the portfolio is:\n",
    "$σ_p^2=\\mathbf{w}^TΣ\\mathbf{w}$\n",
    "\n",
    "The fitness function $F(w)$ that combines return and risk can be defined as:\n",
    "$F(w)=E(R_p)-λ⋅σ_p^2$\n",
    "\n",
    "or, equivalently:\n",
    "$F(w)=\\mathbf{w}^T\\mathbf{r}-λ⋅\\mathbf{w}^TΣ\\mathbf{w}$\n",
    "\n",
    "\n",
    "**Constraints:**\n",
    "\n",
    "The weights must sum to 1 (i.e., the total budget must be fully allocated):\n",
    "$\\sum_{i=1}^{n}w_i=1$\n",
    "\n",
    "No single asset should account for more than 40% of the total budget:\n",
    "$w_i≤0.4$ for all $i$\n",
    "\n",
    "The portfolio risk (standard deviation) should be below a certain threshold (if applicable):\n",
    "$\\mathbf{w}^TΣ\\mathbf{w}≤threshold$"
   ]
  },
  {
   "cell_type": "markdown",
   "metadata": {
    "id": "BqvGJySDsabS"
   },
   "source": [
    "## Fitness function evaluating porfolio return with constraints"
   ]
  },
  {
   "cell_type": "code",
   "execution_count": 1,
   "metadata": {
    "colab": {
     "base_uri": "https://localhost:8080/"
    },
    "executionInfo": {
     "elapsed": 6,
     "status": "ok",
     "timestamp": 1722585026669,
     "user": {
      "displayName": "Đorđe Grbić",
      "userId": "17224412897437983949"
     },
     "user_tz": -120
    },
    "id": "hDih4vkzsluo",
    "outputId": "8ec0cec7-4ee0-4c91-9c53-0af3f688a0d1"
   },
   "outputs": [
    {
     "name": "stdout",
     "output_type": "stream",
     "text": [
      "Fitness Value: 0.09446800000000002\n"
     ]
    }
   ],
   "source": [
    "import numpy as np\n",
    "\n",
    "# Define the parameters\n",
    "expected_returns = np.array([0.12, 0.08, 0.10, 0.06, 0.14])\n",
    "covariance_matrix = np.array([\n",
    "    [0.0225, 0.003, 0.0025, 0.0015, 0.004],\n",
    "    [0.003, 0.01, 0.002, 0.001, 0.003],\n",
    "    [0.0025, 0.002, 0.0144, 0.0012, 0.0028],\n",
    "    [0.0015, 0.001, 0.0012, 0.0064, 0.0015],\n",
    "    [0.004, 0.003, 0.0028, 0.0015, 0.04]\n",
    "])\n",
    "risk_aversion = 1.0  # Example risk-aversion parameter\n",
    "max_risk_threshold = 0.12  # Example risk threshold\n",
    "\n",
    "\n",
    "# Define the fitness function\n",
    "def fitness(weights):\n",
    "    # Normalize weights to sum to 1\n",
    "    weights = weights / np.sum(weights)\n",
    "\n",
    "    # Calculate expected return\n",
    "    portfolio_return = np.dot(weights, expected_returns)\n",
    "\n",
    "    # Calculate portfolio risk (variance)\n",
    "    portfolio_variance = np.dot(weights.T, np.dot(covariance_matrix, weights))\n",
    "\n",
    "    # Calculate fitness\n",
    "    fitness_value = portfolio_return - risk_aversion * portfolio_variance\n",
    "\n",
    "    if portfolio_variance > max_risk_threshold or np.any(weights > 0.4):\n",
    "        fitness_value = -np.inf\n",
    "\n",
    "    return fitness_value\n",
    "\n",
    "# Example weights (randomly chosen, should be optimized)\n",
    "weights = np.array([0.2, 0.2, 0.2, 0.2, 0.2])\n",
    "\n",
    "# Calculate the fitness value\n",
    "fitness_value = fitness(weights)\n",
    "print(\"Fitness Value:\", fitness_value)\n"
   ]
  },
  {
   "cell_type": "markdown",
   "metadata": {
    "id": "lshqzbXeuHbZ"
   },
   "source": [
    "The solution should look like:\n",
    "\n",
    "```\n",
    "Total return: some_value\n",
    "Allocation: [permutation of job indices]\n",
    "```"
   ]
  },
  {
   "cell_type": "markdown",
   "metadata": {
    "id": "MPY2uxtnlLZn"
   },
   "source": [
    "## Implement the algorithm\n",
    "make sure to comment on the code. This problem can be approximated with a genetic algorithm, ant colony optimization, simmulated annealing, etc."
   ]
  },
  {
   "cell_type": "code",
   "execution_count": 5,
   "metadata": {
    "id": "ePFIQbH7lQMd"
   },
   "outputs": [
    {
     "name": "stdout",
     "output_type": "stream",
     "text": [
      "Iteration 1: Weights = [0.18346219 0.18346219 0.18346219 0.26615123 0.18346219], Sum = 1.0, Fitness = 0.09164177407988733\n",
      "Iteration 2: Weights = [0.17374331 0.17374331 0.22671819 0.2520519  0.17374331], Sum = 1.0, Fitness = 0.09186602256628577\n",
      "Iteration 3: Weights = [0.18657926 0.18657926 0.24346787 0.27067321 0.1127004 ], Sum = 1.0, Fitness = 0.08915124106526431\n",
      "Iteration 4: Weights = [0.20280465 0.20280465 0.17767798 0.29421161 0.1225011 ], Sum = 1.0, Fitness = 0.08861330951310002\n",
      "Iteration 5: Weights = [0.21840456 0.21840456 0.19134512 0.23992178 0.13192399], Sum = 1.0, Fitness = 0.09086384426661018\n",
      "Iteration 6: Weights = [0.24156672 0.24156672 0.10558592 0.26536588 0.14591475], Sum = 1.0, Fitness = 0.09019921310143682\n",
      "Iteration 7: Weights = [0.23129718 0.27380941 0.10109723 0.25408459 0.13971159], Sum = 1.0, Fitness = 0.08962191089159076\n",
      "Iteration 8: Weights = [0.24701605 0.22445777 0.10796776 0.27135208 0.14920633], Sum = 1.0, Fitness = 0.09049539915208099\n",
      "Iteration 9: Weights = [0.24134533 0.21930492 0.10548916 0.26512268 0.16873792], Sum = 1.0, Fitness = 0.09135042177223422\n",
      "Iteration 10: Weights = [0.26679416 0.24242968 0.11661254 0.18763301 0.18653061], Sum = 1.0, Fitness = 0.09459442526151932\n",
      "Iteration 11: Weights = [0.26095641 0.23712506 0.13594201 0.1835274  0.18244912], Sum = 1.0, Fitness = 0.09467781102328948\n",
      "Iteration 12: Weights = [0.26723855 0.24283349 0.1151411  0.18794555 0.18684131], Sum = 1.0, Fitness = 0.09458756414748166\n",
      "Iteration 13: Weights = [0.26991071 0.24526162 0.11629241 0.18982484 0.17871042], Sum = 1.0, Fitness = 0.09426980144005828\n",
      "Iteration 14: Weights = [0.24767515 0.30743784 0.10671211 0.17418685 0.16398805], Sum = 1.0, Fitness = 0.09282505062035873\n",
      "Iteration 15: Weights = [0.24457935 0.30359505 0.10537827 0.18450904 0.16193829], Sum = 1.0, Fitness = 0.09242901465988794\n",
      "Iteration 16: Weights = [0.25849169 0.32086436 0.11137247 0.19500442 0.11426705], Sum = 1.0, Fitness = 0.0903384320982961\n",
      "Iteration 17: Weights = [0.26162319 0.32475147 0.1127217  0.1852523  0.11565134], Sum = 1.0, Fitness = 0.090696920002739\n",
      "Iteration 18: Weights = [0.2618758  0.32506504 0.11283053 0.18446562 0.11576301], Sum = 1.0, Fitness = 0.09072574797355104\n",
      "Iteration 19: Weights = [0.27964823 0.34712585 0.12048787 0.12911869 0.12361936], Sum = 1.0, Fitness = 0.09272009012644693\n",
      "Iteration 20: Weights = [0.27591235 0.35584772 0.11887825 0.12739377 0.12196791], Sum = 1.0, Fitness = 0.09249048672287083\n",
      "Iteration 21: Weights = [0.30351877 0.39145206 0.13077262 0.04008515 0.1341714 ], Sum = 1.0, Fitness = 0.09547115472760187\n",
      "Iteration 22: Weights = [0.30112828 0.39624492 0.12974267 0.03976945 0.13311468], Sum = 1.0, Fitness = 0.095313328772382\n",
      "Iteration 23: Weights = [0.29857865 0.39288995 0.12864414 0.04789964 0.13198761], Sum = 1.0, Fitness = 0.09504411877073164\n",
      "Iteration 24: Weights = [0.3347982  0.37260215 0.1220013  0.04542623 0.12517212], Sum = 1.0, Fitness = 0.09572415741918094\n",
      "Iteration 25: Weights = [0.34922188 0.3886545  0.12725733 0.00430153 0.13056475], Sum = 1.0, Fitness = 0.09708460847427633\n",
      "Iteration 26: Weights = [0.378284   0.33777856 0.13784764 0.0046595  0.14143031], Sum = 1.0, Fitness = 0.09879700338168425\n",
      "Iteration 27: Weights = [0.39324632 0.32964952 0.13453018 0.00454736 0.13802662], Sum = 1.0, Fitness = 0.09897951697421081\n",
      "Iteration 28: Weights = [0.38848786 0.32566061 0.14500277 0.00449234 0.13635643], Sum = 1.0, Fitness = 0.09898603228364929\n",
      "Iteration 29: Weights = [0.36922993 0.30951712 0.18738627 0.00426964 0.12959704], Sum = 1.0, Fitness = 0.09897026457909554\n",
      "Iteration 30: Weights = [0.38981324 0.27102504 0.19783242 0.00450766 0.13682164], Sum = 1.0, Fitness = 0.10015587530411864\n",
      "Iteration 31: Weights = [0.36628413 0.28147591 0.20546094 0.00468148 0.14209755], Sum = 1.0, Fitness = 0.09990797465244586\n",
      "Iteration 32: Weights = [0.35254985 0.27092162 0.23525317 0.00450594 0.13676942], Sum = 1.0, Fitness = 0.09980467999173769\n",
      "Iteration 33: Weights = [0.32816945 0.25218617 0.21898436 0.00419434 0.19646569], Sum = 1.0, Fitness = 0.10177510075392236\n",
      "Iteration 34: Weights = [0.30427989 0.23382792 0.20304308 0.07668542 0.18216369], Sum = 1.0, Fitness = 0.09902260107460407\n",
      "Iteration 35: Weights = [0.3132838  0.2407471  0.2090513  0.04936373 0.18755407], Sum = 1.0, Fitness = 0.10007392197700143\n",
      "Iteration 36: Weights = [0.28049332 0.25224269 0.21903344 0.05172083 0.19650972], Sum = 1.0, Fitness = 0.09963807455891059\n",
      "Iteration 37: Weights = [0.28901529 0.25990635 0.22568813 0.02291013 0.20248009], Sum = 1.0, Fitness = 0.1007239029502488\n",
      "Iteration 38: Weights = [0.32063275 0.28833937 0.14098059 0.02541644 0.22463085], Sum = 1.0, Fitness = 0.10101091397874074\n",
      "Iteration 39: Weights = [0.32601785 0.2931821  0.12655317 0.02584331 0.22840357], Sum = 1.0, Fitness = 0.10103291848817061\n",
      "Iteration 40: Weights = [0.31393536 0.28231652 0.121863   0.02488554 0.25699958], Sum = 1.0, Fitness = 0.10186185619983228\n",
      "Iteration 41: Weights = [0.32447326 0.25822595 0.12595359 0.02572087 0.26562632], Sum = 1.0, Fitness = 0.10263834541001932\n",
      "Iteration 42: Weights = [0.336367   0.26769136 0.09391496 0.02666369 0.27536299], Sum = 1.0, Fitness = 0.10269857529258669\n",
      "Iteration 43: Weights = [0.32335321 0.27294077 0.09575662 0.02718656 0.28076284], Sum = 1.0, Fitness = 0.10256802772545551\n",
      "Iteration 44: Weights = [0.33238975 0.28056846 0.09843267 0.         0.28860913], Sum = 1.0, Fitness = 0.10359041912679948\n",
      "Iteration 45: Weights = [0.31885312 0.30986743 0.09442398 0.         0.27685547], Sum = 1.0, Fitness = 0.10258417249315686\n",
      "Iteration 46: Weights = [0.33319096 0.32380121 0.09866994 0.         0.2443379 ], Sum = 1.0, Fitness = 0.10168623516272439\n",
      "Iteration 47: Weights = [0.29654992 0.34159403 0.10409183 0.         0.25776422], Sum = 1.0, Fitness = 0.10125596152906262\n",
      "Iteration 48: Weights = [0.29472647 0.34564249 0.10345178 0.         0.25617926], Sum = 1.0, Fitness = 0.10111009194157163\n",
      "Iteration 49: Weights = [0.29472647 0.34564249 0.10345178 0.         0.25617926], Sum = 1.0, Fitness = 0.10111009194157163\n",
      "Iteration 50: Weights = [0.28712871 0.33673216 0.1007849  0.         0.27535423], Sum = 1.0, Fitness = 0.101649398819022\n",
      "Iteration 51: Weights = [0.23359    0.36202173 0.10835414 0.         0.29603414], Sum = 1.0, Fitness = 0.10089321928298843\n",
      "Iteration 52: Weights = [0.21796786 0.33781027 0.10110758 0.         0.34311429], Sum = 1.0, Fitness = 0.10208466390133403\n",
      "Iteration 53: Weights = [0.21049266 0.32622508 0.0976401  0.03429496 0.3313472 ], Sum = 1.0, Fitness = 0.10085380447248504\n",
      "Iteration 54: Weights = [0.21706244 0.33640705 0.06947612 0.03536536 0.34168904], Sum = 1.0, Fitness = 0.10081472257266297\n",
      "Iteration 55: Weights = [0.19948673 0.30916791 0.06385058 0.11347255 0.31402222], Sum = 1.0, Fitness = 0.09792061547584968\n",
      "Iteration 56: Weights = [0.18686546 0.35287598 0.05981084 0.10629329 0.29415443], Sum = 1.0, Fitness = 0.09663778120524864\n",
      "Iteration 57: Weights = [0.19300031 0.364461   0.02894415 0.10978293 0.30381161], Sum = 1.0, Fitness = 0.09645810963876073\n",
      "Iteration 58: Weights = [0.14314354 0.38697755 0.03073233 0.11656536 0.32258122], Sum = 1.0, Fitness = 0.09530499241032882\n",
      "Iteration 59: Weights = [0.15042591 0.35579028 0.03229583 0.12249558 0.33899241], Sum = 1.0, Fitness = 0.09620909866140084\n",
      "Iteration 60: Weights = [0.16088488 0.38052803 0.03454132 0.06148355 0.36256222], Sum = 1.0, Fitness = 0.09835975447641185\n",
      "Iteration 61: Weights = [0.16664087 0.39414223 0.         0.06368325 0.37553365], Sum = 1.0, Fitness = 0.09814214480343557\n",
      "Iteration 62: Weights = [0.15555525 0.3679223  0.06652403 0.05944678 0.35055164], Sum = 1.0, Fitness = 0.09851972181437924\n",
      "Iteration 63: Weights = [0.17888025 0.35775966 0.06468653 0.05780476 0.34086881], Sum = 1.0, Fitness = 0.09899795643524026\n",
      "Iteration 64: Weights = [0.16567422 0.33134766 0.05991097 0.12736336 0.31570379], Sum = 1.0, Fitness = 0.09646534645893307\n",
      "Iteration 65: Weights = [0.16304314 0.32608551 0.05895952 0.14122174 0.31069009], Sum = 1.0, Fitness = 0.09594516957130324\n",
      "Iteration 66: Weights = [0.17040743 0.34081407 0.06162259 0.14760041 0.2795555 ], Sum = 1.0, Fitness = 0.094879101528971\n",
      "Iteration 67: Weights = [0.17089915 0.33891195 0.06180041 0.14802632 0.28036217], Sum = 1.0, Fitness = 0.09493082757267765\n",
      "Iteration 68: Weights = [0.16585834 0.32891547 0.08947336 0.14366017 0.27209266], Sum = 1.0, Fitness = 0.09509893694096314\n",
      "Iteration 69: Weights = [0.17505765 0.34715872 0.09443599 0.09616339 0.28718424], Sum = 1.0, Fitness = 0.09686490379536378\n",
      "Iteration 70: Weights = [0.18201709 0.34423    0.0936393  0.09535213 0.28476148], Sum = 1.0, Fitness = 0.09701092260835169\n",
      "Iteration 71: Weights = [0.18696355 0.35358473 0.0690082  0.0979434  0.29250011], Sum = 1.0, Fitness = 0.09690471294391362\n",
      "Iteration 72: Weights = [0.18746062 0.35452478 0.06919167 0.09820379 0.29061914], Sum = 1.0, Fitness = 0.09684357618197316\n",
      "Iteration 73: Weights = [0.1873618  0.3543379  0.0691552  0.09815203 0.29099308], Sum = 1.0, Fitness = 0.09685575271367214\n",
      "Iteration 74: Weights = [0.1346154  0.37733712 0.0736439  0.10452284 0.30988075], Sum = 1.0, Fitness = 0.09567393806266453\n",
      "Iteration 75: Weights = [0.13463712 0.37739801 0.07365578 0.10453971 0.30976939], Sum = 1.0, Fitness = 0.09567020157241374\n",
      "Iteration 76: Weights = [0.12373692 0.34684393 0.06769262 0.17703602 0.28469052], Sum = 1.0, Fitness = 0.09304403800658248\n",
      "Iteration 77: Weights = [0.12944383 0.36284083 0.07081469 0.18520115 0.2516995 ], Sum = 1.0, Fitness = 0.0917561454273377\n",
      "Iteration 78: Weights = [0.12333343 0.34571291 0.11467692 0.17645872 0.23981801], Sum = 1.0, Fitness = 0.09212417461466277\n",
      "Iteration 79: Weights = [0.13248827 0.34210271 0.11347937 0.174616   0.23731364], Sum = 1.0, Fitness = 0.09236442966998565\n",
      "Iteration 80: Weights = [0.12087615 0.31211862 0.19117976 0.15931153 0.21651395], Sum = 1.0, Fitness = 0.09283540731364734\n",
      "Iteration 81: Weights = [0.12605844 0.3255     0.19937615 0.12326892 0.22579649], Sum = 1.0, Fitness = 0.09416461547621066\n",
      "Iteration 82: Weights = [0.13436456 0.34694753 0.21251325 0.13139124 0.17478342], Sum = 1.0, Fitness = 0.09213413237589689\n",
      "Iteration 83: Weights = [0.10146413 0.36013405 0.2205903  0.13638506 0.18142646], Sum = 1.0, Fitness = 0.09126476477427352\n",
      "Iteration 84: Weights = [0.10032442 0.36732144 0.21811249 0.13485309 0.17938856], Sum = 1.0, Fitness = 0.09108486209031577\n",
      "Iteration 85: Weights = [0.0980687  0.38154676 0.21320839 0.13182102 0.17535514], Sum = 1.0, Fitness = 0.09072484845908899\n",
      "Iteration 86: Weights = [0.1031398  0.34956673 0.22423333 0.13863744 0.1844227 ], Sum = 1.0, Fitness = 0.09152683576834793\n",
      "Iteration 87: Weights = [0.13804618 0.33596136 0.21550602 0.13324158 0.17724485], Sum = 1.0, Fitness = 0.09243729167713623\n",
      "Iteration 88: Weights = [0.14390273 0.35021438 0.22464877 0.1388943  0.14233982], Sum = 1.0, Fitness = 0.09094634654419877\n",
      "Iteration 89: Weights = [0.13549874 0.3881622  0.21152916 0.1307828  0.1340271 ], Sum = 1.0, Fitness = 0.09000720809280749\n",
      "Iteration 90: Weights = [0.13519206 0.38728365 0.2110504  0.13275014 0.13372375], Sum = 1.0, Fitness = 0.08994220042342294\n",
      "Iteration 91: Weights = [0.12548883 0.35948689 0.19590254 0.19499582 0.12412591], Sum = 1.0, Fitness = 0.08784463880619535\n",
      "Iteration 92: Weights = [0.12354023 0.35390476 0.19286056 0.20749597 0.12219847], Sum = 1.0, Fitness = 0.08741388193188324\n",
      "Iteration 93: Weights = [0.12439613 0.35635664 0.18726864 0.20893352 0.12304507], Sum = 1.0, Fitness = 0.08735531426324915\n",
      "Iteration 94: Weights = [0.13728741 0.28965531 0.20667546 0.23058548 0.13579634], Sum = 1.0, Fitness = 0.08860588827020997\n",
      "Iteration 95: Weights = [0.15123641 0.31908554 0.22767458 0.15240964 0.14959384], Sum = 1.0, Fitness = 0.09147885894774768\n",
      "Iteration 96: Weights = [0.16342601 0.34480372 0.16542542 0.1646938  0.16165105], Sum = 1.0, Fitness = 0.09111147960684225\n",
      "Iteration 97: Weights = [0.21490751 0.32358502 0.15524539 0.15455879 0.15170329], Sum = 1.0, Fitness = 0.0924056495694931\n",
      "Iteration 98: Weights = [0.227858   0.3430845  0.16460059 0.10361186 0.16084504], Sum = 1.0, Fitness = 0.09425797571470407\n",
      "Iteration 99: Weights = [0.22982228 0.34604211 0.16601956 0.10450506 0.15361098], Sum = 1.0, Fitness = 0.09396723182133214\n",
      "Iteration 100: Weights = [0.22367437 0.33678524 0.18832913 0.10170948 0.14950178], Sum = 1.0, Fitness = 0.09404663157156722\n"
     ]
    }
   ],
   "source": [
    "import time \n",
    "\n",
    "np.random.seed(42)  # For reproducibility\n",
    "investment_target_sum = 1.0\n",
    "single_investment_limit = 0.4  # Maximum weight for a single investment\n",
    "\n",
    "\n",
    "def create_neighbor_solution(weights):\n",
    "    # Create a copy of the weights to modify\n",
    "\n",
    "    has_found_valid_solution = False\n",
    "\n",
    "    while not has_found_valid_solution:\n",
    "        new_weights = weights.copy()\n",
    "\n",
    "        # Randomly select an index to perturb\n",
    "        index = np.random.randint(0, len(new_weights))\n",
    "        perturbation = np.random.uniform(-0.1, 0.1)\n",
    "        new_weights[index] += perturbation\n",
    "\n",
    "        # Clip the weights to ensure they are valid\n",
    "        new_weights = np.clip(new_weights, 0, 1)\n",
    "        new_weights /= np.sum(new_weights)  # Normalize weights\n",
    "\n",
    "        if np.sum(new_weights) == investment_target_sum and np.all(new_weights <= single_investment_limit):\n",
    "            has_found_valid_solution = True\n",
    "\n",
    "    return new_weights\n",
    "\n",
    "\n",
    "example_weights = np.array([0.2, 0.2, 0.2, 0.2, 0.2])  # Initial weights\n",
    "for i in range(100):  # Example of generating 100 neighbor solutions\n",
    "    example_weights = create_neighbor_solution(example_weights)\n",
    "\n",
    "    print(f\"Iteration {i + 1}: Weights = {example_weights}, Sum = {np.sum(example_weights)}, Fitness = {fitness(example_weights)}\")\n",
    "    time.sleep(2)  # Simulate some processing time"
   ]
  },
  {
   "cell_type": "code",
   "execution_count": null,
   "metadata": {},
   "outputs": [],
   "source": [
    "\n",
    "\n",
    "\n",
    "\n",
    "\n",
    "    \n",
    "\n",
    "def simulated_annealing(fitness_function, initial_weights, max_iterations=1000, temperature=1000, cooling_rate=0.99):\n",
    "    current_weights = initial_weights\n",
    "    current_fitness = fitness_function(current_weights)\n",
    "\n",
    "    for iteration in range(max_iterations):\n",
    "        # Generate a new candidate solution by slightly perturbing the current solution\n",
    "        new_weights = current_weights + np.random.normal(0, 0.01, size=current_weights.shape)\n",
    "        new_weights = np.clip(new_weights, 0, 1)  # Ensure weights are between 0 and 1\n",
    "        new_weights /= np.sum(new_weights)  # Normalize weights\n",
    "\n",
    "        new_fitness = fitness_function(new_weights)\n",
    "\n",
    "        # Accept the new solution with a probability based on the temperature\n",
    "        if new_fitness > current_fitness or np.random.rand() < np.exp((new_fitness - current_fitness) / temperature):\n",
    "            current_weights = new_weights\n",
    "            current_fitness = new_fitness\n",
    "\n",
    "        # Cool down the temperature\n",
    "        temperature *= cooling_rate\n",
    "\n",
    "    return current_weights, current_fitness"
   ]
  },
  {
   "cell_type": "markdown",
   "metadata": {
    "id": "Hhw-7jE9lQzw"
   },
   "source": [
    "## Initialise the starting solution"
   ]
  },
  {
   "cell_type": "code",
   "execution_count": null,
   "metadata": {
    "id": "YwCtHgQFlrLP"
   },
   "outputs": [],
   "source": []
  },
  {
   "cell_type": "markdown",
   "metadata": {
    "id": "JIEhIiD5lY7z"
   },
   "source": [
    "## Run the optimization and plot the best solution in iteration"
   ]
  },
  {
   "cell_type": "code",
   "execution_count": null,
   "metadata": {
    "id": "2gwVc8xIlYta"
   },
   "outputs": [],
   "source": []
  },
  {
   "cell_type": "markdown",
   "metadata": {
    "id": "Y5D50cN0lEtO"
   },
   "source": [
    "## Print the solution and the total solution lateness"
   ]
  },
  {
   "cell_type": "code",
   "execution_count": null,
   "metadata": {
    "id": "F85QR0WfkyFC"
   },
   "outputs": [],
   "source": []
  }
 ],
 "metadata": {
  "colab": {
   "authorship_tag": "ABX9TyMp90euiWnPLFS0LA3aywOB",
   "provenance": []
  },
  "kernelspec": {
   "display_name": "base",
   "language": "python",
   "name": "python3"
  },
  "language_info": {
   "codemirror_mode": {
    "name": "ipython",
    "version": 3
   },
   "file_extension": ".py",
   "mimetype": "text/x-python",
   "name": "python",
   "nbconvert_exporter": "python",
   "pygments_lexer": "ipython3",
   "version": "3.13.5"
  }
 },
 "nbformat": 4,
 "nbformat_minor": 0
}
