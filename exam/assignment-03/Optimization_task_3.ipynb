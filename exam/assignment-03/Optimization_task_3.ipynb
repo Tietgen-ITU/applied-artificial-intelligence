{
 "cells": [
  {
   "cell_type": "markdown",
   "metadata": {
    "id": "uUXu44-JgeNK"
   },
   "source": [
    "## Portfolio Optimization Problem\n",
    "\n",
    "\n",
    "#### Problem Description\n",
    "\n",
    "This is a simplified example of a portfolio optimization problem. If you are interested in how portfolio optimization works in detail check out these resources:\n",
    "\n",
    "https://towardsdatascience.com/a-beginners-guide-to-data-science-in-the-portfolio-management-process-56d559a3d39\n",
    "\n",
    "https://towardsdatascience.com/the-science-of-portfolio-optimization-186607d30416\n",
    "\n",
    "For this assignment we will imagine that we have collected all the necessary information to optimize asset allocation.\n",
    "\n",
    "**Description**\n",
    "\n",
    "Imagine you are an investor with a budget. You want to invest this budget in a portfolio consisting of $N$ different assets (stocks or any other asset that is expected to gain in value over time). Each asset has an expected return and a risk associated with it. Your objective is to maximize the expected return while keeping the portfolio risk below a certain threshold. Additionally, you want to ensure that no single asset takes up more than 40% of the total investment.\n",
    "\n",
    "What makes this problem challenging is that asset risks are correlated, i.e. investing in two assets might mean that their returns follow each other. For example: stocks of two cryptocurrency companies will crash together if the whole market crashes.\n",
    "\n",
    "**Task:**\n",
    "\n",
    "Imagine we have 5 assets to invest in.\n",
    "Asset 1:\n",
    " - Expected Return: 12%\n",
    " - Risk (Standard Deviation): 15%\n",
    "\n",
    "Asset 2:\n",
    " - Expected Return: 8%\n",
    " - Risk (Standard Deviation): 10%\n",
    "\n",
    "Asset 3:\n",
    " - Expected Return: 10%\n",
    " - Risk (Standard Deviation): 12%\n",
    "\n",
    "Asset 4:\n",
    " - Expected Return: 6%\n",
    " - Risk (Standard Deviation): 8%\n",
    "\n",
    "Asset 5:\n",
    " - Expected Return: 14%\n",
    " - Risk (Standard Deviation): 20%\n",
    "\n",
    "\n",
    " We also have a risk covariance matrix:\n",
    "\n",
    " ```python\n",
    "covariance_matrix = np.array([\n",
    "    [0.0225, 0.003, 0.0025, 0.0015, 0.004],\n",
    "    [0.003, 0.01, 0.002, 0.001, 0.003],\n",
    "    [0.0025, 0.002, 0.0144, 0.0012, 0.0028],\n",
    "    [0.0015, 0.001, 0.0012, 0.0064, 0.0015],\n",
    "    [0.004, 0.003, 0.0028, 0.0015, 0.04]\n",
    "])\n",
    " ```\n",
    "\n",
    "**Objective:**\n",
    "The objective is to find a vector of allocation values $w$ (how much of the budget should go to each asset) to maximize the expected return of the entire investment portfolio, while respecting risk constraints.\n",
    "\n",
    "Parameters\n",
    "\n",
    "$w$: Vector of weights representing the proportion of the total budget allocated to each asset.\n",
    "\n",
    "$r$: Vector of expected returns for each asset.\n",
    "\n",
    "$Σ$: Covariance matrix of the asset returns.\n",
    "\n",
    "$λ$: Risk-aversion parameter, where higher values indicate greater aversion to risk.\n",
    "\n",
    "The expected return of the portfolio is:\n",
    "$E(R_p)=\\mathbf{w}^T\\mathbf{r}$\n",
    "\n",
    "The variance (risk) of the portfolio is:\n",
    "$σ_p^2=\\mathbf{w}^TΣ\\mathbf{w}$\n",
    "\n",
    "The fitness function $F(w)$ that combines return and risk can be defined as:\n",
    "$F(w)=E(R_p)-λ⋅σ_p^2$\n",
    "\n",
    "or, equivalently:\n",
    "$F(w)=\\mathbf{w}^T\\mathbf{r}-λ⋅\\mathbf{w}^TΣ\\mathbf{w}$\n",
    "\n",
    "\n",
    "**Constraints:**\n",
    "\n",
    "The weights must sum to 1 (i.e., the total budget must be fully allocated):\n",
    "$\\sum_{i=1}^{n}w_i=1$\n",
    "\n",
    "No single asset should account for more than 40% of the total budget:\n",
    "$w_i≤0.4$ for all $i$\n",
    "\n",
    "The portfolio risk (standard deviation) should be below a certain threshold (if applicable):\n",
    "$\\mathbf{w}^TΣ\\mathbf{w}≤threshold$"
   ]
  },
  {
   "cell_type": "markdown",
   "metadata": {
    "id": "BqvGJySDsabS"
   },
   "source": [
    "## Fitness function evaluating porfolio return with constraints"
   ]
  },
  {
   "cell_type": "code",
   "execution_count": 1,
   "metadata": {
    "colab": {
     "base_uri": "https://localhost:8080/"
    },
    "executionInfo": {
     "elapsed": 6,
     "status": "ok",
     "timestamp": 1722585026669,
     "user": {
      "displayName": "Đorđe Grbić",
      "userId": "17224412897437983949"
     },
     "user_tz": -120
    },
    "id": "hDih4vkzsluo",
    "outputId": "8ec0cec7-4ee0-4c91-9c53-0af3f688a0d1"
   },
   "outputs": [
    {
     "name": "stdout",
     "output_type": "stream",
     "text": [
      "Fitness Value: 0.09446800000000002\n"
     ]
    }
   ],
   "source": [
    "import numpy as np\n",
    "\n",
    "# Define the parameters\n",
    "expected_returns = np.array([0.12, 0.08, 0.10, 0.06, 0.14])\n",
    "covariance_matrix = np.array([\n",
    "    [0.0225, 0.003, 0.0025, 0.0015, 0.004],\n",
    "    [0.003, 0.01, 0.002, 0.001, 0.003],\n",
    "    [0.0025, 0.002, 0.0144, 0.0012, 0.0028],\n",
    "    [0.0015, 0.001, 0.0012, 0.0064, 0.0015],\n",
    "    [0.004, 0.003, 0.0028, 0.0015, 0.04]\n",
    "])\n",
    "risk_aversion = 1.0  # Example risk-aversion parameter\n",
    "max_risk_threshold = 0.12  # Example risk threshold\n",
    "\n",
    "\n",
    "# Define the fitness function\n",
    "def fitness(weights):\n",
    "    # Normalize weights to sum to 1\n",
    "    weights = weights / np.sum(weights)\n",
    "\n",
    "    # Calculate expected return\n",
    "    portfolio_return = np.dot(weights, expected_returns)\n",
    "\n",
    "    # Calculate portfolio risk (variance)\n",
    "    portfolio_variance = np.dot(weights.T, np.dot(covariance_matrix, weights))\n",
    "\n",
    "    # Calculate fitness\n",
    "    fitness_value = portfolio_return - risk_aversion * portfolio_variance\n",
    "\n",
    "    if portfolio_variance > max_risk_threshold or np.any(weights > 0.4):\n",
    "        fitness_value = -np.inf\n",
    "\n",
    "    return fitness_value\n",
    "\n",
    "# Example weights (randomly chosen, should be optimized)\n",
    "weights = np.array([0.2, 0.2, 0.2, 0.2, 0.2])\n",
    "\n",
    "# Calculate the fitness value\n",
    "fitness_value = fitness(weights)\n",
    "print(\"Fitness Value:\", fitness_value)\n"
   ]
  },
  {
   "cell_type": "markdown",
   "metadata": {
    "id": "lshqzbXeuHbZ"
   },
   "source": [
    "The solution should look like:\n",
    "\n",
    "```\n",
    "Total return: some_value\n",
    "Allocation: [permutation of job indices]\n",
    "```"
   ]
  },
  {
   "cell_type": "markdown",
   "metadata": {
    "id": "MPY2uxtnlLZn"
   },
   "source": [
    "## Implement the algorithm\n",
    "make sure to comment on the code. This problem can be approximated with a genetic algorithm, ant colony optimization, simmulated annealing, etc."
   ]
  },
  {
   "cell_type": "code",
   "execution_count": 105,
   "metadata": {
    "id": "ePFIQbH7lQMd"
   },
   "outputs": [],
   "source": [
    "import time \n",
    "\n",
    "np.random.seed(42)  # For reproducibility\n",
    "investment_target_sum = 1.0\n",
    "single_investment_limit = 0.4  # Maximum weight for a single investment\n"
   ]
  },
  {
   "cell_type": "code",
   "execution_count": 92,
   "metadata": {},
   "outputs": [
    {
     "name": "stdout",
     "output_type": "stream",
     "text": [
      "Iteration 1: Weights = [0.20835423 0.19791144 0.19791144 0.19791144 0.19791144], Sum = 1.0, Fitness = 0.0946508658072695\n",
      "Iteration 2: Weights = [0.19009272 0.18056521 0.26821165 0.18056521 0.18056521], Sum = 1.0, Fitness = 0.09472451978063681\n",
      "Iteration 3: Weights = [0.19824252 0.18830653 0.27971062 0.1454338  0.18830653], Sum = 1.0, Fitness = 0.09615508196947846\n",
      "Iteration 4: Weights = [0.16776992 0.19546355 0.29034165 0.15096134 0.19546355], Sum = 1.0, Fitness = 0.09551745548960955\n",
      "Iteration 5: Weights = [0.16588542 0.20450062 0.28708035 0.14926565 0.19326797], Sum = 1.0, Fitness = 0.09532142020581301\n",
      "Iteration 6: Weights = [0.1621556  0.22238685 0.28062555 0.14590952 0.18892248], Sum = 1.0, Fitness = 0.09492735767267299\n",
      "Iteration 7: Weights = [0.17054062 0.18217671 0.29513662 0.15345445 0.19869161], Sum = 1.0, Fitness = 0.09580194028081983\n",
      "Iteration 8: Weights = [0.15857243 0.23956988 0.27442453 0.14268533 0.18474783], Sum = 1.0, Fitness = 0.09454119394233011\n",
      "Iteration 9: Weights = [0.21342352 0.22395276 0.25653531 0.13338394 0.17270447], Sum = 1.0, Fitness = 0.09571945184735138\n",
      "Iteration 10: Weights = [0.24403759 0.21523638 0.24655079 0.12819255 0.1659827 ], Sum = 1.0, Fitness = 0.09631731681734475\n"
     ]
    }
   ],
   "source": [
    "\n",
    "# indicies = [i for i in range(5)]\n",
    "# num_weights_to_change = np.random.randint(1, len(weights))\n",
    "# print(f\"Number of weights to change: {num_weights_to_change}\")\n",
    "# indicies_to_change = np.random.permutation(indicies)\n",
    "# print(f\"Randomly selected index: {indicies_to_change[:num_weights_to_change+1]}\")\n",
    "\n",
    "# values = np.\n",
    "\n",
    "def create_neighbor_solution(weights):\n",
    "    # Create a copy of the weights to modify\n",
    "\n",
    "    has_found_valid_solution = False\n",
    "\n",
    "    while not has_found_valid_solution:\n",
    "        new_weights = weights.copy()\n",
    "\n",
    "        # Randomly select an index to perturb\n",
    "\n",
    "        index = np.random.randint(0, len(new_weights))\n",
    "        perturbation = np.random.uniform(-0.1, 0.1)\n",
    "        new_weights[index] += perturbation\n",
    "\n",
    "        # Clip the weights to ensure they are valid\n",
    "        new_weights = np.clip(new_weights, 0, 1)\n",
    "        new_weights /= np.sum(new_weights)  # Normalize weights\n",
    "\n",
    "        if np.sum(new_weights) == investment_target_sum and np.all(new_weights <= single_investment_limit):\n",
    "            has_found_valid_solution = True\n",
    "\n",
    "    return new_weights\n",
    "\n",
    "\n",
    "example_weights = np.array([0.2, 0.2, 0.2, 0.2, 0.2])  # Initial weights\n",
    "for i in range(10):  # Example of generating 100 neighbor solutions\n",
    "    example_weights = create_neighbor_solution(example_weights)\n",
    "\n",
    "    print(f\"Iteration {i + 1}: Weights = {example_weights}, Sum = {np.sum(example_weights)}, Fitness = {fitness(example_weights)}\")"
   ]
  },
  {
   "cell_type": "code",
   "execution_count": 99,
   "metadata": {},
   "outputs": [],
   "source": [
    "def simulated_annealing(fitness_function, initial_weights, max_iterations=1000, temperature=1000, cooling_rate=0.99):\n",
    "\n",
    "    current_weights = initial_weights.copy()\n",
    "    best_weights = current_weights.copy()\n",
    "    current_fitness = fitness_function(current_weights)\n",
    "    best_fitness = current_fitness\n",
    "\n",
    "    for iteration in range(max_iterations):\n",
    "        # Generate a new candidate solution by slightly perturbing the current solution\n",
    "\n",
    "        weights = create_neighbor_solution(current_weights)\n",
    "        new_fitness = fitness_function(current_weights)\n",
    "\n",
    "        temperature *= cooling_rate\n",
    "\n",
    "        # Accept the new solution with a probability based on the temperature\n",
    "        diff = new_fitness - current_fitness\n",
    "        if new_fitness >= current_fitness:\n",
    "            current_weights = weights\n",
    "            current_fitness = new_fitness\n",
    "            if new_fitness > best_fitness:\n",
    "                best_weights = weights\n",
    "                best_fitness = new_fitness\n",
    "        elif np.random.rand() < np.exp(diff / temperature):\n",
    "            current_weights = weights\n",
    "            current_fitness = new_fitness\n",
    "            \n",
    "\n",
    "        # Cool down the temperature\n",
    "\n",
    "    return best_weights"
   ]
  },
  {
   "cell_type": "markdown",
   "metadata": {
    "id": "Hhw-7jE9lQzw"
   },
   "source": [
    "## Initialise the starting solution"
   ]
  },
  {
   "cell_type": "code",
   "execution_count": 97,
   "metadata": {
    "id": "YwCtHgQFlrLP"
   },
   "outputs": [
    {
     "name": "stdout",
     "output_type": "stream",
     "text": [
      "Starting weights: [0.2 0.2 0.2 0.2 0.2]\n",
      "CPU Count: 8\n",
      "Initial Weights: [array([0.13189296, 0.21702676, 0.21702676, 0.21702676, 0.21702676]), array([0.19262797, 0.19262797, 0.19262797, 0.22948813, 0.19262797]), array([0.20095689, 0.20095689, 0.20095689, 0.20095689, 0.19617245]), array([0.26840805, 0.18289799, 0.18289799, 0.18289799, 0.18289799]), array([0.20457631, 0.20457631, 0.20457631, 0.18169476, 0.20457631]), array([0.20105343, 0.20105343, 0.20105343, 0.20105343, 0.19578627]), array([0.18698252, 0.18698252, 0.18698252, 0.25206991, 0.18698252]), array([0.20801075, 0.20801075, 0.20801075, 0.20801075, 0.16795698])]\n"
     ]
    }
   ],
   "source": [
    "import os\n",
    "\n",
    "ground = np.array([0.2, 0.2, 0.2, 0.2, 0.2])\n",
    "print(\"Starting weights:\", ground)\n",
    "\n",
    "print(\"CPU Count:\", os.cpu_count())\n",
    "init_weights = []\n",
    "for i in range(os.cpu_count()):\n",
    "    init_weights.append(create_neighbor_solution(ground))\n",
    "\n",
    "print(\"Initial Weights:\", init_weights)\n"
   ]
  },
  {
   "cell_type": "markdown",
   "metadata": {
    "id": "JIEhIiD5lY7z"
   },
   "source": [
    "## Run the optimization and plot the best solution in iteration"
   ]
  },
  {
   "cell_type": "code",
   "execution_count": null,
   "metadata": {
    "id": "2gwVc8xIlYta"
   },
   "outputs": [
    {
     "name": "stderr",
     "output_type": "stream",
     "text": [
      "/var/folders/ff/m9yn9h517xx24b6m1snyknz00000gn/T/ipykernel_27013/3056334008.py:24: RuntimeWarning: overflow encountered in scalar divide\n",
      "  elif np.random.rand() < np.exp(diff / temperature):\n"
     ]
    },
    {
     "name": "stdout",
     "output_type": "stream",
     "text": [
      "Result from thread 2: [0.38910045 0.19422396 0.         0.06341366 0.35326193], Fitness: 0.10455965087385463\n",
      "Result from thread 3: [0.35294009 0.         0.25260563 0.10584787 0.28860641], Fitness: 0.10530727453094062\n",
      "Result from thread 7: [0.36300288 0.         0.25335674 0.         0.38364038], Fitness: 0.11071104006327837\n",
      "Result from thread 4: [0.28176808 0.18150176 0.16149512 0.         0.37523505], Fitness: 0.10664589888397198\n",
      "Result from thread 1: [0.25501905 0.14016617 0.22543889 0.05570914 0.32366676], Fitness: 0.10430155693115767\n",
      "Result from thread 5: [0.31506671 0.19937402 0.13882356 0.         0.34673571], Fitness: 0.1062011338798576\n",
      "Result from thread 6: [0.36690173 0.04072362 0.09173935 0.1057211  0.3949142 ], Fitness: 0.10660987641239521\n",
      "Result from thread 0: [0.38540507 0.         0.27827861 0.         0.33631632], Fitness: 0.11008190611920811\n"
     ]
    }
   ],
   "source": [
    "import concurrent.futures\n",
    "\n",
    "iterations = 10_000_000  # Number of iterations for each thread\n",
    "results = []\n",
    "with concurrent.futures.ThreadPoolExecutor(max_workers=os.cpu_count()) as executor:\n",
    "    futures = {executor.submit(simulated_annealing, fitness, init_weights[i], iterations): i for i in range(len(init_weights))}\n",
    "    for future in concurrent.futures.as_completed(futures):\n",
    "        result = future.result()\n",
    "        results.append((result, fitness(result)))\n",
    "        print(f\"Result from thread {futures[future]}: {result}, Fitness: {fitness(result)}\")"
   ]
  },
  {
   "cell_type": "markdown",
   "metadata": {
    "id": "Y5D50cN0lEtO"
   },
   "source": [
    "## Print the solution and the total solution lateness"
   ]
  },
  {
   "cell_type": "code",
   "execution_count": 104,
   "metadata": {
    "id": "F85QR0WfkyFC"
   },
   "outputs": [
    {
     "name": "stdout",
     "output_type": "stream",
     "text": [
      "Total return: 0.11071104006327837\n",
      "0.1226056727414611\n",
      "Best Weights: [0.36300288 0.         0.25335674 0.         0.38364038]\n"
     ]
    }
   ],
   "source": [
    "best_result = max(results, key=lambda x: x[1])\n",
    "\n",
    "print(\"Total return:\", best_result[1])\n",
    "print(np.dot(best_result[0], expected_returns))\n",
    "print(\"Best Weights:\", best_result[0])"
   ]
  }
 ],
 "metadata": {
  "colab": {
   "authorship_tag": "ABX9TyMp90euiWnPLFS0LA3aywOB",
   "provenance": []
  },
  "kernelspec": {
   "display_name": "base",
   "language": "python",
   "name": "python3"
  },
  "language_info": {
   "codemirror_mode": {
    "name": "ipython",
    "version": 3
   },
   "file_extension": ".py",
   "mimetype": "text/x-python",
   "name": "python",
   "nbconvert_exporter": "python",
   "pygments_lexer": "ipython3",
   "version": "3.13.5"
  }
 },
 "nbformat": 4,
 "nbformat_minor": 0
}
