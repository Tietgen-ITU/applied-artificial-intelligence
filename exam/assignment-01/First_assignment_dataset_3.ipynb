{
 "cells": [
  {
   "cell_type": "markdown",
   "metadata": {
    "id": "bZtG_pxuQkKt"
   },
   "source": [
    "# **Assignment 1**, **dataset 3**\n"
   ]
  },
  {
   "cell_type": "markdown",
   "metadata": {
    "id": "bzZrzrrM9OAZ"
   },
   "source": [
    "# Problem statement\n",
    "https://archive.ics.uci.edu/dataset/73/mushroom\n",
    "\n",
    "Additional Information\n",
    "\n",
    "This data set includes descriptions of hypothetical samples corresponding to 23 species of gilled mushrooms in the Agaricus and Lepiota Family (pp. 500-525).  Each species is identified as definitely edible, definitely poisonous, or of unknown edibility and not recommended.  This latter class was combined with the poisonous one.  The Guide clearly states that there is no simple rule for determining the edibility of a mushroom; no rule like ``leaflets three, let it be'' for Poisonous Oak and Ivy."
   ]
  },
  {
   "cell_type": "markdown",
   "metadata": {
    "id": "W1qvRTTB6v55"
   },
   "source": [
    "### Loading the dataset"
   ]
  },
  {
   "cell_type": "code",
   "execution_count": null,
   "metadata": {
    "id": "fc33gHg8C_u9"
   },
   "outputs": [],
   "source": [
    "!pip install ucimlrepo"
   ]
  },
  {
   "cell_type": "code",
   "execution_count": null,
   "metadata": {
    "id": "3DeI1JiRDBDm"
   },
   "outputs": [],
   "source": [
    "from ucimlrepo import fetch_ucirepo\n",
    "\n",
    "# fetch dataset\n",
    "mushrooms = fetch_ucirepo(id=73)\n",
    "\n",
    "# data (as pandas dataframes)\n",
    "X = mushrooms.data.features\n",
    "y = mushrooms.data.targets\n",
    "\n",
    "# metadata\n",
    "print(mushrooms.metadata)\n",
    "\n",
    "# variable information\n",
    "print(mushrooms.variables)\n",
    "\n",
    "# Make sure to split the data for validation"
   ]
  },
  {
   "cell_type": "markdown",
   "metadata": {
    "id": "v2yCqjPT5wK0"
   },
   "source": [
    "## **Exploratory Data Analysis**\n",
    "\n",
    "The student will have to make a written analysis of the data being loaded (depending on the dataset that was assigned to them). They should apply methods of inspecting the data and make some exploratory data analysis"
   ]
  },
  {
   "cell_type": "code",
   "execution_count": null,
   "metadata": {
    "id": "MHQSFRIJ5zj5"
   },
   "outputs": [],
   "source": []
  },
  {
   "cell_type": "markdown",
   "metadata": {
    "id": "MzBsdaAR5z_k"
   },
   "source": [
    "## **Data Preprocessing**:\n",
    "\n",
    "If applicable, the student will create new features from existing data to improve model performance and/or select the most relevant features for the model."
   ]
  },
  {
   "cell_type": "code",
   "execution_count": null,
   "metadata": {
    "id": "QryAkup26B_U"
   },
   "outputs": [],
   "source": []
  },
  {
   "cell_type": "markdown",
   "metadata": {
    "id": "jGZW9gvp6FGb"
   },
   "source": [
    "## **Data Transformation**\n",
    "\n",
    "The student should prepare the data for the training. Augmenting, splitting, and otherwise transforming should be done here."
   ]
  },
  {
   "cell_type": "code",
   "execution_count": null,
   "metadata": {
    "id": "cXwKVjdf6H9A"
   },
   "outputs": [],
   "source": []
  },
  {
   "cell_type": "markdown",
   "metadata": {
    "id": "ARBWNhl96MP9"
   },
   "source": [
    "## **Model Selection**\n",
    "\n",
    "\n",
    "The student should implement a simple model as a baseline to compare more complex models. The student should try more complex modes and justify their rejection or acceptance."
   ]
  },
  {
   "cell_type": "code",
   "execution_count": null,
   "metadata": {
    "id": "aNZp9ryo6U1M"
   },
   "outputs": [],
   "source": []
  },
  {
   "cell_type": "markdown",
   "metadata": {
    "id": "8rCblQr26VJL"
   },
   "source": [
    "## **Reporting the results**\n",
    "\n",
    "The student should report the results. Identify which features are most influential in the model’s predictions, if applicable for the dataset and model used."
   ]
  },
  {
   "cell_type": "code",
   "execution_count": null,
   "metadata": {
    "id": "3VRb9kfB6d9q"
   },
   "outputs": [],
   "source": []
  },
  {
   "cell_type": "markdown",
   "metadata": {
    "id": "Pp_ic2cA6eil"
   },
   "source": [
    "**Extra**: Any additional discussion and extra work relevant for solving the problem is welcome by the student and will contribute to a better grade."
   ]
  },
  {
   "cell_type": "code",
   "execution_count": null,
   "metadata": {
    "id": "PZlGZOtb6o5n"
   },
   "outputs": [],
   "source": []
  }
 ],
 "metadata": {
  "colab": {
   "authorship_tag": "ABX9TyMSfZ/xIm08xz2gJLm+Z7Ai",
   "provenance": []
  },
  "kernelspec": {
   "display_name": "Python 3",
   "name": "python3"
  },
  "language_info": {
   "name": "python"
  }
 },
 "nbformat": 4,
 "nbformat_minor": 0
}
